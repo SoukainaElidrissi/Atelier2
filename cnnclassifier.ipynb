{
 "cells": [
  {
   "cell_type": "code",
   "execution_count": 1,
   "id": "47896620",
   "metadata": {
    "_cell_guid": "b1076dfc-b9ad-4769-8c92-a6c4dae69d19",
    "_uuid": "8f2839f25d086af736a60e9eeb907d3b93b6e0e5",
    "execution": {
     "iopub.execute_input": "2024-03-23T14:41:34.598472Z",
     "iopub.status.busy": "2024-03-23T14:41:34.597428Z",
     "iopub.status.idle": "2024-03-23T14:41:36.082197Z",
     "shell.execute_reply": "2024-03-23T14:41:36.081016Z"
    },
    "papermill": {
     "duration": 1.494562,
     "end_time": "2024-03-23T14:41:36.084704",
     "exception": false,
     "start_time": "2024-03-23T14:41:34.590142",
     "status": "completed"
    },
    "tags": []
   },
   "outputs": [
    {
     "name": "stdout",
     "output_type": "stream",
     "text": [
      "/kaggle/input/mnist-dataset/train-images.idx3-ubyte\n",
      "/kaggle/input/mnist-dataset/t10k-labels.idx1-ubyte\n",
      "/kaggle/input/mnist-dataset/t10k-images.idx3-ubyte\n",
      "/kaggle/input/mnist-dataset/train-labels.idx1-ubyte\n",
      "/kaggle/input/mnist-dataset/t10k-labels-idx1-ubyte/t10k-labels-idx1-ubyte\n",
      "/kaggle/input/mnist-dataset/t10k-images-idx3-ubyte/t10k-images-idx3-ubyte\n",
      "/kaggle/input/mnist-dataset/train-labels-idx1-ubyte/train-labels-idx1-ubyte\n",
      "/kaggle/input/mnist-dataset/train-images-idx3-ubyte/train-images-idx3-ubyte\n"
     ]
    }
   ],
   "source": [
    "# This Python 3 environment comes with many helpful analytics libraries installed\n",
    "# It is defined by the kaggle/python Docker image: https://github.com/kaggle/docker-python\n",
    "# For example, here's several helpful packages to load\n",
    "\n",
    "import numpy as np # linear algebra\n",
    "import pandas as pd # data processing, CSV file I/O (e.g. pd.read_csv)\n",
    "\n",
    "# Input data files are available in the read-only \"../input/\" directory\n",
    "# For example, running this (by clicking run or pressing Shift+Enter) will list all files under the input directory\n",
    "\n",
    "import os\n",
    "for dirname, _, filenames in os.walk('/kaggle/input'):\n",
    "    for filename in filenames:\n",
    "        print(os.path.join(dirname, filename))\n",
    "\n",
    "# You can write up to 20GB to the current directory (/kaggle/working/) that gets preserved as output when you create a version using \"Save & Run All\" \n",
    "# You can also write temporary files to /kaggle/temp/, but they won't be saved outside of the current session"
   ]
  },
  {
   "cell_type": "code",
   "execution_count": 2,
   "id": "8eea83fc",
   "metadata": {
    "execution": {
     "iopub.execute_input": "2024-03-23T14:41:36.097507Z",
     "iopub.status.busy": "2024-03-23T14:41:36.096449Z",
     "iopub.status.idle": "2024-03-23T14:41:48.566040Z",
     "shell.execute_reply": "2024-03-23T14:41:48.564794Z"
    },
    "papermill": {
     "duration": 12.478621,
     "end_time": "2024-03-23T14:41:48.568803",
     "exception": false,
     "start_time": "2024-03-23T14:41:36.090182",
     "status": "completed"
    },
    "tags": []
   },
   "outputs": [],
   "source": [
    "import torch\n",
    "import torch.nn as nn\n",
    "import torch.optim as optim\n",
    "import torchvision\n",
    "import torchvision.transforms as transforms\n",
    "from torch.utils.data import DataLoader\n",
    "from torchvision.datasets import MNIST\n",
    "import torch.nn.functional as F"
   ]
  },
  {
   "cell_type": "code",
   "execution_count": 3,
   "id": "8874be1b",
   "metadata": {
    "execution": {
     "iopub.execute_input": "2024-03-23T14:41:48.582030Z",
     "iopub.status.busy": "2024-03-23T14:41:48.580658Z",
     "iopub.status.idle": "2024-03-23T14:41:48.667545Z",
     "shell.execute_reply": "2024-03-23T14:41:48.666392Z"
    },
    "papermill": {
     "duration": 0.095863,
     "end_time": "2024-03-23T14:41:48.670054",
     "exception": false,
     "start_time": "2024-03-23T14:41:48.574191",
     "status": "completed"
    },
    "tags": []
   },
   "outputs": [],
   "source": [
    "device = torch.device(\"cuda\" if torch.cuda.is_available() else \"cpu\")"
   ]
  },
  {
   "cell_type": "code",
   "execution_count": 4,
   "id": "4f460536",
   "metadata": {
    "execution": {
     "iopub.execute_input": "2024-03-23T14:41:48.682888Z",
     "iopub.status.busy": "2024-03-23T14:41:48.682026Z",
     "iopub.status.idle": "2024-03-23T14:41:48.687269Z",
     "shell.execute_reply": "2024-03-23T14:41:48.686259Z"
    },
    "papermill": {
     "duration": 0.013996,
     "end_time": "2024-03-23T14:41:48.689553",
     "exception": false,
     "start_time": "2024-03-23T14:41:48.675557",
     "status": "completed"
    },
    "tags": []
   },
   "outputs": [],
   "source": [
    "transform = transforms.Compose([\n",
    "    transforms.ToTensor(),\n",
    "    transforms.Normalize((0.5,), (0.5,))\n",
    "])\n"
   ]
  },
  {
   "cell_type": "code",
   "execution_count": 5,
   "id": "7238ddb4",
   "metadata": {
    "execution": {
     "iopub.execute_input": "2024-03-23T14:41:48.702206Z",
     "iopub.status.busy": "2024-03-23T14:41:48.701287Z",
     "iopub.status.idle": "2024-03-23T14:41:49.946930Z",
     "shell.execute_reply": "2024-03-23T14:41:49.945795Z"
    },
    "papermill": {
     "duration": 1.254849,
     "end_time": "2024-03-23T14:41:49.949702",
     "exception": false,
     "start_time": "2024-03-23T14:41:48.694853",
     "status": "completed"
    },
    "tags": []
   },
   "outputs": [
    {
     "name": "stdout",
     "output_type": "stream",
     "text": [
      "Downloading http://yann.lecun.com/exdb/mnist/train-images-idx3-ubyte.gz\n",
      "Downloading http://yann.lecun.com/exdb/mnist/train-images-idx3-ubyte.gz to ./data/MNIST/raw/train-images-idx3-ubyte.gz\n"
     ]
    },
    {
     "name": "stderr",
     "output_type": "stream",
     "text": [
      "100%|██████████| 9912422/9912422 [00:00<00:00, 81964898.62it/s]\n"
     ]
    },
    {
     "name": "stdout",
     "output_type": "stream",
     "text": [
      "Extracting ./data/MNIST/raw/train-images-idx3-ubyte.gz to ./data/MNIST/raw\n",
      "\n",
      "Downloading http://yann.lecun.com/exdb/mnist/train-labels-idx1-ubyte.gz\n",
      "Downloading http://yann.lecun.com/exdb/mnist/train-labels-idx1-ubyte.gz to ./data/MNIST/raw/train-labels-idx1-ubyte.gz\n"
     ]
    },
    {
     "name": "stderr",
     "output_type": "stream",
     "text": [
      "100%|██████████| 28881/28881 [00:00<00:00, 39625676.75it/s]"
     ]
    },
    {
     "name": "stdout",
     "output_type": "stream",
     "text": [
      "Extracting ./data/MNIST/raw/train-labels-idx1-ubyte.gz to ./data/MNIST/raw\n",
      "\n",
      "Downloading http://yann.lecun.com/exdb/mnist/t10k-images-idx3-ubyte.gz\n",
      "Downloading http://yann.lecun.com/exdb/mnist/t10k-images-idx3-ubyte.gz to ./data/MNIST/raw/t10k-images-idx3-ubyte.gz\n"
     ]
    },
    {
     "name": "stderr",
     "output_type": "stream",
     "text": [
      "\n",
      "100%|██████████| 1648877/1648877 [00:00<00:00, 24480078.29it/s]\n"
     ]
    },
    {
     "name": "stdout",
     "output_type": "stream",
     "text": [
      "Extracting ./data/MNIST/raw/t10k-images-idx3-ubyte.gz to ./data/MNIST/raw\n",
      "\n",
      "Downloading http://yann.lecun.com/exdb/mnist/t10k-labels-idx1-ubyte.gz\n",
      "Downloading http://yann.lecun.com/exdb/mnist/t10k-labels-idx1-ubyte.gz to ./data/MNIST/raw/t10k-labels-idx1-ubyte.gz\n"
     ]
    },
    {
     "name": "stderr",
     "output_type": "stream",
     "text": [
      "100%|██████████| 4542/4542 [00:00<00:00, 6517457.67it/s]\n"
     ]
    },
    {
     "name": "stdout",
     "output_type": "stream",
     "text": [
      "Extracting ./data/MNIST/raw/t10k-labels-idx1-ubyte.gz to ./data/MNIST/raw\n",
      "\n"
     ]
    }
   ],
   "source": [
    "train_dataset = MNIST(root='./data', train=True, download=True, transform=transform)\n",
    "test_dataset = MNIST(root='./data', train=False, download=True, transform=transform)\n",
    "\n",
    "# Define data loaders\n",
    "train_loader = DataLoader(dataset=train_dataset, batch_size=64, shuffle=True)\n",
    "test_loader = DataLoader(dataset=test_dataset, batch_size=64, shuffle=False)"
   ]
  },
  {
   "cell_type": "code",
   "execution_count": 6,
   "id": "aa058135",
   "metadata": {
    "execution": {
     "iopub.execute_input": "2024-03-23T14:41:49.966262Z",
     "iopub.status.busy": "2024-03-23T14:41:49.965467Z",
     "iopub.status.idle": "2024-03-23T14:41:51.626339Z",
     "shell.execute_reply": "2024-03-23T14:41:51.625267Z"
    },
    "papermill": {
     "duration": 1.671719,
     "end_time": "2024-03-23T14:41:51.628727",
     "exception": false,
     "start_time": "2024-03-23T14:41:49.957008",
     "status": "completed"
    },
    "tags": []
   },
   "outputs": [
    {
     "data": {
      "image/png": "[encoded data removed]",
      "text/plain": [
       "<Figure size 1000x600 with 15 Axes>"
      ]
     },
     "metadata": {},
     "output_type": "display_data"
    }
   ],
   "source": [
    "import matplotlib.pyplot as plt\n",
    "\n",
    "# Define a function to display images\n",
    "def show_images(images, labels, nrows=3, ncols=5):\n",
    "    fig, axes = plt.subplots(nrows, ncols, figsize=(10, 6))\n",
    "    for i, ax in enumerate(axes.flat):\n",
    "        ax.imshow(images[i].squeeze(), cmap='gray')\n",
    "        ax.set_title(f\"Label: {labels[i]}\")\n",
    "        ax.axis('off')\n",
    "    plt.tight_layout()\n",
    "    plt.show()\n",
    "\n",
    "# Display some sample images from the dataset\n",
    "dataiter=iter(train_loader)\n",
    "sample_images, sample_labels = next(dataiter)\n",
    "show_images(sample_images, sample_labels)\n"
   ]
  },
  {
   "cell_type": "code",
   "execution_count": 7,
   "id": "094d031a",
   "metadata": {
    "execution": {
     "iopub.execute_input": "2024-03-23T14:41:51.646275Z",
     "iopub.status.busy": "2024-03-23T14:41:51.645333Z",
     "iopub.status.idle": "2024-03-23T14:41:51.655511Z",
     "shell.execute_reply": "2024-03-23T14:41:51.654460Z"
    },
    "papermill": {
     "duration": 0.021567,
     "end_time": "2024-03-23T14:41:51.657949",
     "exception": false,
     "start_time": "2024-03-23T14:41:51.636382",
     "status": "completed"
    },
    "tags": []
   },
   "outputs": [],
   "source": [
    "class CNN(nn.Module):\n",
    "    def __init__(self):\n",
    "        super(CNN, self).__init__()\n",
    "        self.conv1 = nn.Conv2d(1, 32, kernel_size=3, padding=1)\n",
    "        self.conv2 = nn.Conv2d(32, 64, kernel_size=3, padding=1)\n",
    "        self.pool = nn.MaxPool2d(kernel_size=2, stride=2)\n",
    "        self.fc1 = nn.Linear(64 * 7 * 7, 128)\n",
    "        self.fc2 = nn.Linear(128, 10)\n",
    "        self.dropout = nn.Dropout(0.5)\n",
    "\n",
    "    def forward(self, x):\n",
    "        x = F.relu(self.conv1(x))\n",
    "        x = self.pool(x)\n",
    "        x = F.relu(self.conv2(x))\n",
    "        x = self.pool(x)\n",
    "        x = x.view(-1, 64 * 7 * 7)\n",
    "        x = F.relu(self.fc1(x))\n",
    "        x = self.dropout(x)\n",
    "        x = self.fc2(x)\n",
    "        return x"
   ]
  },
  {
   "cell_type": "code",
   "execution_count": 8,
   "id": "9a953ee2",
   "metadata": {
    "execution": {
     "iopub.execute_input": "2024-03-23T14:41:51.675210Z",
     "iopub.status.busy": "2024-03-23T14:41:51.674835Z",
     "iopub.status.idle": "2024-03-23T14:41:51.897732Z",
     "shell.execute_reply": "2024-03-23T14:41:51.896829Z"
    },
    "papermill": {
     "duration": 0.234524,
     "end_time": "2024-03-23T14:41:51.900353",
     "exception": false,
     "start_time": "2024-03-23T14:41:51.665829",
     "status": "completed"
    },
    "tags": []
   },
   "outputs": [],
   "source": [
    "model = CNN().to(device)"
   ]
  },
  {
   "cell_type": "code",
   "execution_count": 9,
   "id": "69b0aa65",
   "metadata": {
    "execution": {
     "iopub.execute_input": "2024-03-23T14:41:51.917868Z",
     "iopub.status.busy": "2024-03-23T14:41:51.917060Z",
     "iopub.status.idle": "2024-03-23T14:41:51.922686Z",
     "shell.execute_reply": "2024-03-23T14:41:51.921598Z"
    },
    "papermill": {
     "duration": 0.016756,
     "end_time": "2024-03-23T14:41:51.924947",
     "exception": false,
     "start_time": "2024-03-23T14:41:51.908191",
     "status": "completed"
    },
    "tags": []
   },
   "outputs": [],
   "source": [
    "criterion = nn.CrossEntropyLoss()\n",
    "optimizer = optim.Adam(model.parameters(), lr=0.001)"
   ]
  },
  {
   "cell_type": "code",
   "execution_count": 10,
   "id": "ddf5b513",
   "metadata": {
    "execution": {
     "iopub.execute_input": "2024-03-23T14:41:51.942151Z",
     "iopub.status.busy": "2024-03-23T14:41:51.941718Z",
     "iopub.status.idle": "2024-03-23T14:43:26.420773Z",
     "shell.execute_reply": "2024-03-23T14:43:26.419619Z"
    },
    "papermill": {
     "duration": 94.491176,
     "end_time": "2024-03-23T14:43:26.423931",
     "exception": false,
     "start_time": "2024-03-23T14:41:51.932755",
     "status": "completed"
    },
    "tags": []
   },
   "outputs": [
    {
     "name": "stdout",
     "output_type": "stream",
     "text": [
      "Epoch 1/5, Loss: 0.26784841208827936\n",
      "Epoch 2/5, Loss: 0.09728977801466882\n",
      "Epoch 3/5, Loss: 0.07205770779569853\n",
      "Epoch 4/5, Loss: 0.057582991663614774\n",
      "Epoch 5/5, Loss: 0.05017989932552977\n"
     ]
    }
   ],
   "source": [
    "num_epochs = 5\n",
    "for epoch in range(num_epochs):\n",
    "    model.train()\n",
    "    running_loss = 0.0\n",
    "    for images, labels in train_loader:\n",
    "        images, labels = images.to(device), labels.to(device)\n",
    "        optimizer.zero_grad()\n",
    "        outputs = model(images)\n",
    "        loss = criterion(outputs, labels)\n",
    "        loss.backward()\n",
    "        optimizer.step()\n",
    "        running_loss += loss.item()\n",
    "    print(f\"Epoch {epoch+1}/{num_epochs}, Loss: {running_loss/len(train_loader)}\")"
   ]
  },
  {
   "cell_type": "code",
   "execution_count": 11,
   "id": "db80dc50",
   "metadata": {
    "execution": {
     "iopub.execute_input": "2024-03-23T14:43:26.447818Z",
     "iopub.status.busy": "2024-03-23T14:43:26.446614Z",
     "iopub.status.idle": "2024-03-23T14:43:29.214756Z",
     "shell.execute_reply": "2024-03-23T14:43:29.213465Z"
    },
    "papermill": {
     "duration": 2.78035,
     "end_time": "2024-03-23T14:43:29.217182",
     "exception": false,
     "start_time": "2024-03-23T14:43:26.436832",
     "status": "completed"
    },
    "tags": []
   },
   "outputs": [
    {
     "name": "stdout",
     "output_type": "stream",
     "text": [
      "Accuracy on the test set: 99.08%\n"
     ]
    }
   ],
   "source": [
    "model.eval()\n",
    "correct = 0\n",
    "total = 0\n",
    "with torch.no_grad():\n",
    "    for images, labels in test_loader:\n",
    "        images, labels = images.to(device), labels.to(device)\n",
    "        outputs = model(images)\n",
    "        _, predicted = torch.max(outputs.data, 1)\n",
    "        total += labels.size(0)\n",
    "        correct += (predicted == labels).sum().item()\n",
    "\n",
    "print(f\"Accuracy on the test set: {100 * correct / total}%\")"
   ]
  },
  {
   "cell_type": "code",
   "execution_count": null,
   "id": "db573635",
   "metadata": {
    "papermill": {
     "duration": 0.007866,
     "end_time": "2024-03-23T14:43:29.233044",
     "exception": false,
     "start_time": "2024-03-23T14:43:29.225178",
     "status": "completed"
    },
    "tags": []
   },
   "outputs": [],
   "source": []
  },
  {
   "cell_type": "code",
   "execution_count": 12,
   "id": "4367438b",
   "metadata": {
    "execution": {
     "iopub.execute_input": "2024-03-23T14:43:29.253683Z",
     "iopub.status.busy": "2024-03-23T14:43:29.252847Z",
     "iopub.status.idle": "2024-03-23T14:43:29.467151Z",
     "shell.execute_reply": "2024-03-23T14:43:29.466009Z"
    },
    "papermill": {
     "duration": 0.228232,
     "end_time": "2024-03-23T14:43:29.469661",
     "exception": false,
     "start_time": "2024-03-23T14:43:29.241429",
     "status": "completed"
    },
    "tags": []
   },
   "outputs": [
    {
     "data": {
      "image/png": "[encoded data removed]",
      "text/plain": [
       "<Figure size 640x480 with 1 Axes>"
      ]
     },
     "metadata": {},
     "output_type": "display_data"
    }
   ],
   "source": [
    "import numpy as np\n",
    "\n",
    "\n",
    "example_index = 0\n",
    "# Get the corresponding image and label\n",
    "example_image = sample_images[example_index]  # Add batch dimension\n",
    "example_label = sample_labels[example_index]\n",
    "\n",
    "# Make prediction\n",
    "model.eval()\n",
    "with torch.no_grad():\n",
    "    example_image = example_image.to(device)\n",
    "    output = model(example_image)\n",
    "    predicted_label = torch.argmax(output).item()\n",
    "\n",
    "# Display the example image and prediction\n",
    "plt.imshow(example_image.squeeze().cpu(), cmap='gray')\n",
    "plt.title(f\"True Label: {example_label}, Predicted Label: {predicted_label}\")\n",
    "plt.axis('off')\n",
    "plt.show()\n"
   ]
  }
 ],
 "metadata": {
  "kaggle": {
   "accelerator": "nvidiaTeslaT4",
   "dataSources": [
    {
     "datasetId": 102285,
     "sourceId": 242592,
     "sourceType": "datasetVersion"
    }
   ],
   "dockerImageVersionId": 30674,
   "isGpuEnabled": true,
   "isInternetEnabled": true,
   "language": "python",
   "sourceType": "notebook"
  },
  "kernelspec": {
   "display_name": "Python 3",
   "language": "python",
   "name": "python3"
  },
  "language_info": {
   "codemirror_mode": {
    "name": "ipython",
    "version": 3
   },
   "file_extension": ".py",
   "mimetype": "text/x-python",
   "name": "python",
   "nbconvert_exporter": "python",
   "pygments_lexer": "ipython3",
   "version": "3.10.13"
  },
  "papermill": {
   "default_parameters": {},
   "duration": 122.469351,
   "end_time": "2024-03-23T14:43:32.341306",
   "environment_variables": {},
   "exception": null,
   "input_path": "__notebook__.ipynb",
   "output_path": "__notebook__.ipynb",
   "parameters": {},
   "start_time": "2024-03-23T14:41:29.871955",
   "version": "2.5.0"
  }
 },
 "nbformat": 4,
 "nbformat_minor": 5
}
