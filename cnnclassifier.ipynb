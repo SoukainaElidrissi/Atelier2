{
 "cells": [
  {
   "cell_type": "code",
   "execution_count": 1,
   "id": "07b6da1b",
   "metadata": {
    "_cell_guid": "b1076dfc-b9ad-4769-8c92-a6c4dae69d19",
    "_uuid": "8f2839f25d086af736a60e9eeb907d3b93b6e0e5",
    "execution": {
     "iopub.execute_input": "2024-03-24T06:54:10.405052Z",
     "iopub.status.busy": "2024-03-24T06:54:10.404337Z",
     "iopub.status.idle": "2024-03-24T06:54:11.321899Z",
     "shell.execute_reply": "2024-03-24T06:54:11.320787Z"
    },
    "papermill": {
     "duration": 0.930198,
     "end_time": "2024-03-24T06:54:11.324867",
     "exception": false,
     "start_time": "2024-03-24T06:54:10.394669",
     "status": "completed"
    },
    "tags": []
   },
   "outputs": [
    {
     "name": "stdout",
     "output_type": "stream",
     "text": [
      "/kaggle/input/cocodataset/fasterrcnn_resnet50_fpn_coco-258fb6c6.pth\n",
      "/kaggle/input/mnist-dataset/train-images.idx3-ubyte\n",
      "/kaggle/input/mnist-dataset/t10k-labels.idx1-ubyte\n",
      "/kaggle/input/mnist-dataset/t10k-images.idx3-ubyte\n",
      "/kaggle/input/mnist-dataset/train-labels.idx1-ubyte\n",
      "/kaggle/input/mnist-dataset/t10k-labels-idx1-ubyte/t10k-labels-idx1-ubyte\n",
      "/kaggle/input/mnist-dataset/t10k-images-idx3-ubyte/t10k-images-idx3-ubyte\n",
      "/kaggle/input/mnist-dataset/train-labels-idx1-ubyte/train-labels-idx1-ubyte\n",
      "/kaggle/input/mnist-dataset/train-images-idx3-ubyte/train-images-idx3-ubyte\n"
     ]
    }
   ],
   "source": [
    "# This Python 3 environment comes with many helpful analytics libraries installed\n",
    "# It is defined by the kaggle/python Docker image: https://github.com/kaggle/docker-python\n",
    "# For example, here's several helpful packages to load\n",
    "\n",
    "import numpy as np # linear algebra\n",
    "import pandas as pd # data processing, CSV file I/O (e.g. pd.read_csv)\n",
    "\n",
    "# Input data files are available in the read-only \"../input/\" directory\n",
    "# For example, running this (by clicking run or pressing Shift+Enter) will list all files under the input directory\n",
    "\n",
    "import os\n",
    "for dirname, _, filenames in os.walk('/kaggle/input'):\n",
    "    for filename in filenames:\n",
    "        print(os.path.join(dirname, filename))\n",
    "\n",
    "# You can write up to 20GB to the current directory (/kaggle/working/) that gets preserved as output when you create a version using \"Save & Run All\" \n",
    "# You can also write temporary files to /kaggle/temp/, but they won't be saved outside of the current session"
   ]
  },
  {
   "cell_type": "markdown",
   "id": "15b94643",
   "metadata": {
    "papermill": {
     "duration": 0.0072,
     "end_time": "2024-03-24T06:54:11.340457",
     "exception": false,
     "start_time": "2024-03-24T06:54:11.333257",
     "status": "completed"
    },
    "tags": []
   },
   "source": [
    "# # **CNN Classifier On a MNIST Dataset**"
   ]
  },
  {
   "cell_type": "code",
   "execution_count": 2,
   "id": "ce719abe",
   "metadata": {
    "execution": {
     "iopub.execute_input": "2024-03-24T06:54:11.356660Z",
     "iopub.status.busy": "2024-03-24T06:54:11.355836Z",
     "iopub.status.idle": "2024-03-24T06:54:18.724495Z",
     "shell.execute_reply": "2024-03-24T06:54:18.723708Z"
    },
    "papermill": {
     "duration": 7.379307,
     "end_time": "2024-03-24T06:54:18.726789",
     "exception": false,
     "start_time": "2024-03-24T06:54:11.347482",
     "status": "completed"
    },
    "tags": []
   },
   "outputs": [],
   "source": [
    "import torch\n",
    "import torch.nn as nn\n",
    "import torch.optim as optim\n",
    "import torchvision\n",
    "import torchvision.transforms as transforms\n",
    "from torch.utils.data import DataLoader\n",
    "from torchvision.datasets import MNIST\n",
    "import torch.nn.functional as F"
   ]
  },
  {
   "cell_type": "code",
   "execution_count": 3,
   "id": "f5d7499e",
   "metadata": {
    "execution": {
     "iopub.execute_input": "2024-03-24T06:54:18.744145Z",
     "iopub.status.busy": "2024-03-24T06:54:18.743539Z",
     "iopub.status.idle": "2024-03-24T06:54:18.825961Z",
     "shell.execute_reply": "2024-03-24T06:54:18.825147Z"
    },
    "papermill": {
     "duration": 0.092721,
     "end_time": "2024-03-24T06:54:18.827786",
     "exception": false,
     "start_time": "2024-03-24T06:54:18.735065",
     "status": "completed"
    },
    "tags": []
   },
   "outputs": [],
   "source": [
    "device = torch.device(\"cuda\" if torch.cuda.is_available() else \"cpu\")"
   ]
  },
  {
   "cell_type": "code",
   "execution_count": 4,
   "id": "cd584523",
   "metadata": {
    "execution": {
     "iopub.execute_input": "2024-03-24T06:54:18.843672Z",
     "iopub.status.busy": "2024-03-24T06:54:18.843354Z",
     "iopub.status.idle": "2024-03-24T06:54:18.847713Z",
     "shell.execute_reply": "2024-03-24T06:54:18.846863Z"
    },
    "papermill": {
     "duration": 0.014691,
     "end_time": "2024-03-24T06:54:18.849884",
     "exception": false,
     "start_time": "2024-03-24T06:54:18.835193",
     "status": "completed"
    },
    "tags": []
   },
   "outputs": [],
   "source": [
    "transform = transforms.Compose([\n",
    "    transforms.ToTensor(),\n",
    "    transforms.Normalize((0.5,), (0.5,))\n",
    "])\n"
   ]
  },
  {
   "cell_type": "code",
   "execution_count": 5,
   "id": "01e0086d",
   "metadata": {
    "execution": {
     "iopub.execute_input": "2024-03-24T06:54:18.865316Z",
     "iopub.status.busy": "2024-03-24T06:54:18.865077Z",
     "iopub.status.idle": "2024-03-24T06:54:19.972897Z",
     "shell.execute_reply": "2024-03-24T06:54:19.972091Z"
    },
    "papermill": {
     "duration": 1.117813,
     "end_time": "2024-03-24T06:54:19.974942",
     "exception": false,
     "start_time": "2024-03-24T06:54:18.857129",
     "status": "completed"
    },
    "tags": []
   },
   "outputs": [
    {
     "name": "stdout",
     "output_type": "stream",
     "text": [
      "Downloading http://yann.lecun.com/exdb/mnist/train-images-idx3-ubyte.gz\n",
      "Downloading http://yann.lecun.com/exdb/mnist/train-images-idx3-ubyte.gz to ./data/MNIST/raw/train-images-idx3-ubyte.gz\n"
     ]
    },
    {
     "name": "stderr",
     "output_type": "stream",
     "text": [
      "100%|██████████| 9912422/9912422 [00:00<00:00, 101943229.67it/s]\n"
     ]
    },
    {
     "name": "stdout",
     "output_type": "stream",
     "text": [
      "Extracting ./data/MNIST/raw/train-images-idx3-ubyte.gz to ./data/MNIST/raw\n",
      "\n",
      "Downloading http://yann.lecun.com/exdb/mnist/train-labels-idx1-ubyte.gz\n",
      "Downloading http://yann.lecun.com/exdb/mnist/train-labels-idx1-ubyte.gz to ./data/MNIST/raw/train-labels-idx1-ubyte.gz\n"
     ]
    },
    {
     "name": "stderr",
     "output_type": "stream",
     "text": [
      "100%|██████████| 28881/28881 [00:00<00:00, 49932272.80it/s]"
     ]
    },
    {
     "name": "stdout",
     "output_type": "stream",
     "text": [
      "Extracting ./data/MNIST/raw/train-labels-idx1-ubyte.gz to ./data/MNIST/raw\n",
      "\n",
      "Downloading http://yann.lecun.com/exdb/mnist/t10k-images-idx3-ubyte.gz\n",
      "Downloading http://yann.lecun.com/exdb/mnist/t10k-images-idx3-ubyte.gz to ./data/MNIST/raw/t10k-images-idx3-ubyte.gz\n"
     ]
    },
    {
     "name": "stderr",
     "output_type": "stream",
     "text": [
      "\n",
      "100%|██████████| 1648877/1648877 [00:00<00:00, 24430613.62it/s]\n"
     ]
    },
    {
     "name": "stdout",
     "output_type": "stream",
     "text": [
      "Extracting ./data/MNIST/raw/t10k-images-idx3-ubyte.gz to ./data/MNIST/raw\n",
      "\n",
      "Downloading http://yann.lecun.com/exdb/mnist/t10k-labels-idx1-ubyte.gz\n",
      "Downloading http://yann.lecun.com/exdb/mnist/t10k-labels-idx1-ubyte.gz to ./data/MNIST/raw/t10k-labels-idx1-ubyte.gz\n"
     ]
    },
    {
     "name": "stderr",
     "output_type": "stream",
     "text": [
      "100%|██████████| 4542/4542 [00:00<00:00, 7669295.00it/s]\n"
     ]
    },
    {
     "name": "stdout",
     "output_type": "stream",
     "text": [
      "Extracting ./data/MNIST/raw/t10k-labels-idx1-ubyte.gz to ./data/MNIST/raw\n",
      "\n"
     ]
    }
   ],
   "source": [
    "train_dataset = MNIST(root='./data', train=True, download=True, transform=transform)\n",
    "test_dataset = MNIST(root='./data', train=False, download=True, transform=transform)\n",
    "\n",
    "# Define data loaders\n",
    "train_loader = DataLoader(dataset=train_dataset, batch_size=64, shuffle=True)\n",
    "test_loader = DataLoader(dataset=test_dataset, batch_size=64, shuffle=False)"
   ]
  },
  {
   "cell_type": "code",
   "execution_count": 6,
   "id": "830cd9df",
   "metadata": {
    "execution": {
     "iopub.execute_input": "2024-03-24T06:54:19.994610Z",
     "iopub.status.busy": "2024-03-24T06:54:19.994273Z",
     "iopub.status.idle": "2024-03-24T06:54:21.287048Z",
     "shell.execute_reply": "2024-03-24T06:54:21.286072Z"
    },
    "papermill": {
     "duration": 1.305384,
     "end_time": "2024-03-24T06:54:21.289666",
     "exception": false,
     "start_time": "2024-03-24T06:54:19.984282",
     "status": "completed"
    },
    "tags": []
   },
   "outputs": [
    {
     "data": {
      "image/png": "[encoded data removed]",
      "text/plain": [
       "<Figure size 1000x600 with 15 Axes>"
      ]
     },
     "metadata": {},
     "output_type": "display_data"
    }
   ],
   "source": [
    "import matplotlib.pyplot as plt\n",
    "\n",
    "# Define a function to display images\n",
    "def show_images(images, labels, nrows=3, ncols=5):\n",
    "    fig, axes = plt.subplots(nrows, ncols, figsize=(10, 6))\n",
    "    for i, ax in enumerate(axes.flat):\n",
    "        ax.imshow(images[i].squeeze(), cmap='gray')\n",
    "        ax.set_title(f\"Label: {labels[i]}\")\n",
    "        ax.axis('off')\n",
    "    plt.tight_layout()\n",
    "    plt.show()\n",
    "\n",
    "# Display some sample images from the dataset\n",
    "dataiter=iter(train_loader)\n",
    "sample_images, sample_labels = next(dataiter)\n",
    "show_images(sample_images, sample_labels)\n"
   ]
  },
  {
   "cell_type": "code",
   "execution_count": 7,
   "id": "c36b63fc",
   "metadata": {
    "execution": {
     "iopub.execute_input": "2024-03-24T06:54:21.310870Z",
     "iopub.status.busy": "2024-03-24T06:54:21.310539Z",
     "iopub.status.idle": "2024-03-24T06:54:21.318967Z",
     "shell.execute_reply": "2024-03-24T06:54:21.318052Z"
    },
    "papermill": {
     "duration": 0.02037,
     "end_time": "2024-03-24T06:54:21.320844",
     "exception": false,
     "start_time": "2024-03-24T06:54:21.300474",
     "status": "completed"
    },
    "tags": []
   },
   "outputs": [],
   "source": [
    "class CNN(nn.Module):\n",
    "    def __init__(self):\n",
    "        super(CNN, self).__init__()\n",
    "        self.conv1 = nn.Conv2d(1, 32, kernel_size=3, padding=1)\n",
    "        self.conv2 = nn.Conv2d(32, 64, kernel_size=3, padding=1)\n",
    "        self.pool = nn.MaxPool2d(kernel_size=2, stride=2)\n",
    "        self.fc1 = nn.Linear(64 * 7 * 7, 128)\n",
    "        self.fc2 = nn.Linear(128, 10)\n",
    "        self.dropout = nn.Dropout(0.5)\n",
    "\n",
    "    def forward(self, x):\n",
    "        x = F.relu(self.conv1(x))\n",
    "        x = self.pool(x)\n",
    "        x = F.relu(self.conv2(x))\n",
    "        x = self.pool(x)\n",
    "        x = x.view(-1, 64 * 7 * 7)\n",
    "        x = F.relu(self.fc1(x))\n",
    "        x = self.dropout(x)\n",
    "        x = self.fc2(x)\n",
    "        return x"
   ]
  },
  {
   "cell_type": "code",
   "execution_count": 8,
   "id": "f2a7953e",
   "metadata": {
    "execution": {
     "iopub.execute_input": "2024-03-24T06:54:21.339960Z",
     "iopub.status.busy": "2024-03-24T06:54:21.339706Z",
     "iopub.status.idle": "2024-03-24T06:54:21.528902Z",
     "shell.execute_reply": "2024-03-24T06:54:21.528094Z"
    },
    "papermill": {
     "duration": 0.201363,
     "end_time": "2024-03-24T06:54:21.531283",
     "exception": false,
     "start_time": "2024-03-24T06:54:21.329920",
     "status": "completed"
    },
    "tags": []
   },
   "outputs": [],
   "source": [
    "model = CNN().to(device)"
   ]
  },
  {
   "cell_type": "code",
   "execution_count": 9,
   "id": "5c5d6a45",
   "metadata": {
    "execution": {
     "iopub.execute_input": "2024-03-24T06:54:21.552779Z",
     "iopub.status.busy": "2024-03-24T06:54:21.551985Z",
     "iopub.status.idle": "2024-03-24T06:54:21.556725Z",
     "shell.execute_reply": "2024-03-24T06:54:21.555972Z"
    },
    "papermill": {
     "duration": 0.017243,
     "end_time": "2024-03-24T06:54:21.558549",
     "exception": false,
     "start_time": "2024-03-24T06:54:21.541306",
     "status": "completed"
    },
    "tags": []
   },
   "outputs": [],
   "source": [
    "criterion = nn.CrossEntropyLoss()\n",
    "optimizer = optim.Adam(model.parameters(), lr=0.001)"
   ]
  },
  {
   "cell_type": "code",
   "execution_count": 10,
   "id": "c4dbdca9",
   "metadata": {
    "execution": {
     "iopub.execute_input": "2024-03-24T06:54:21.577833Z",
     "iopub.status.busy": "2024-03-24T06:54:21.577587Z",
     "iopub.status.idle": "2024-03-24T06:55:40.095317Z",
     "shell.execute_reply": "2024-03-24T06:55:40.094405Z"
    },
    "papermill": {
     "duration": 78.529948,
     "end_time": "2024-03-24T06:55:40.097640",
     "exception": false,
     "start_time": "2024-03-24T06:54:21.567692",
     "status": "completed"
    },
    "tags": []
   },
   "outputs": [
    {
     "name": "stdout",
     "output_type": "stream",
     "text": [
      "Epoch 1/5, Loss: 0.2788447259661199\n",
      "Epoch 2/5, Loss: 0.10119651629478295\n",
      "Epoch 3/5, Loss: 0.07556928633334938\n",
      "Epoch 4/5, Loss: 0.06064216884598732\n",
      "Epoch 5/5, Loss: 0.05072807212611402\n"
     ]
    }
   ],
   "source": [
    "num_epochs = 5\n",
    "for epoch in range(num_epochs):\n",
    "    model.train()\n",
    "    running_loss = 0.0\n",
    "    for images, labels in train_loader:\n",
    "        images, labels = images.to(device), labels.to(device)\n",
    "        optimizer.zero_grad()\n",
    "        outputs = model(images)\n",
    "        loss = criterion(outputs, labels)\n",
    "        loss.backward()\n",
    "        optimizer.step()\n",
    "        running_loss += loss.item()\n",
    "    print(f\"Epoch {epoch+1}/{num_epochs}, Loss: {running_loss/len(train_loader)}\")"
   ]
  },
  {
   "cell_type": "code",
   "execution_count": 11,
   "id": "adcf6c17",
   "metadata": {
    "execution": {
     "iopub.execute_input": "2024-03-24T06:55:40.118418Z",
     "iopub.status.busy": "2024-03-24T06:55:40.117886Z",
     "iopub.status.idle": "2024-03-24T06:55:42.361644Z",
     "shell.execute_reply": "2024-03-24T06:55:42.360329Z"
    },
    "papermill": {
     "duration": 2.256233,
     "end_time": "2024-03-24T06:55:42.363690",
     "exception": false,
     "start_time": "2024-03-24T06:55:40.107457",
     "status": "completed"
    },
    "tags": []
   },
   "outputs": [
    {
     "name": "stdout",
     "output_type": "stream",
     "text": [
      "Accuracy on the test set: 99.03%\n"
     ]
    }
   ],
   "source": [
    "model.eval()\n",
    "correct = 0\n",
    "total = 0\n",
    "with torch.no_grad():\n",
    "    for images, labels in test_loader:\n",
    "        images, labels = images.to(device), labels.to(device)\n",
    "        outputs = model(images)\n",
    "        _, predicted = torch.max(outputs.data, 1)\n",
    "        total += labels.size(0)\n",
    "        correct += (predicted == labels).sum().item()\n",
    "\n",
    "print(f\"Accuracy on the test set: {100 * correct / total}%\")"
   ]
  },
  {
   "cell_type": "code",
   "execution_count": null,
   "id": "eb46869c",
   "metadata": {
    "papermill": {
     "duration": 0.009769,
     "end_time": "2024-03-24T06:55:42.383818",
     "exception": false,
     "start_time": "2024-03-24T06:55:42.374049",
     "status": "completed"
    },
    "tags": []
   },
   "outputs": [],
   "source": []
  },
  {
   "cell_type": "code",
   "execution_count": 12,
   "id": "0ebd86aa",
   "metadata": {
    "execution": {
     "iopub.execute_input": "2024-03-24T06:55:42.404866Z",
     "iopub.status.busy": "2024-03-24T06:55:42.404532Z",
     "iopub.status.idle": "2024-03-24T06:55:42.551934Z",
     "shell.execute_reply": "2024-03-24T06:55:42.550972Z"
    },
    "papermill": {
     "duration": 0.160038,
     "end_time": "2024-03-24T06:55:42.553914",
     "exception": false,
     "start_time": "2024-03-24T06:55:42.393876",
     "status": "completed"
    },
    "tags": []
   },
   "outputs": [
    {
     "data": {
      "image/png": "[encoded data removed]",
      "text/plain": [
       "<Figure size 640x480 with 1 Axes>"
      ]
     },
     "metadata": {},
     "output_type": "display_data"
    }
   ],
   "source": [
    "import numpy as np\n",
    "\n",
    "\n",
    "example_index = 0\n",
    "# Get the corresponding image and label\n",
    "example_image = sample_images[example_index]  # Add batch dimension\n",
    "example_label = sample_labels[example_index]\n",
    "\n",
    "# Make prediction\n",
    "model.eval()\n",
    "with torch.no_grad():\n",
    "    example_image = example_image.to(device)\n",
    "    output = model(example_image)\n",
    "    predicted_label = torch.argmax(output).item()\n",
    "\n",
    "# Display the example image and prediction\n",
    "plt.imshow(example_image.squeeze().cpu(), cmap='gray')\n",
    "plt.title(f\"True Label: {example_label}, Predicted Label: {predicted_label}\")\n",
    "plt.axis('off')\n",
    "plt.show()\n"
   ]
  },
  {
   "cell_type": "markdown",
   "id": "deae5966",
   "metadata": {
    "papermill": {
     "duration": 0.010101,
     "end_time": "2024-03-24T06:55:42.574830",
     "exception": false,
     "start_time": "2024-03-24T06:55:42.564729",
     "status": "completed"
    },
    "tags": []
   },
   "source": [
    "# #  **Faster R-CNN On a COCO datasets For object Detection**"
   ]
  },
  {
   "cell_type": "code",
   "execution_count": 13,
   "id": "d1982840",
   "metadata": {
    "execution": {
     "iopub.execute_input": "2024-03-24T06:55:42.596697Z",
     "iopub.status.busy": "2024-03-24T06:55:42.596338Z",
     "iopub.status.idle": "2024-03-24T06:55:45.983215Z",
     "shell.execute_reply": "2024-03-24T06:55:45.981854Z"
    },
    "papermill": {
     "duration": 3.400358,
     "end_time": "2024-03-24T06:55:45.985714",
     "exception": false,
     "start_time": "2024-03-24T06:55:42.585356",
     "status": "completed"
    },
    "tags": []
   },
   "outputs": [],
   "source": [
    "!mkdir -p /root/.cache/torch/hub/checkpoints\n",
    "!cp /kaggle/input/cocodataset/fasterrcnn_resnet50_fpn_coco-258fb6c6.pth /root/.cache/torch/hub/checkpoints/resnet18-5c106cde.pth"
   ]
  },
  {
   "cell_type": "code",
   "execution_count": 14,
   "id": "5880047b",
   "metadata": {
    "execution": {
     "iopub.execute_input": "2024-03-24T06:55:46.009931Z",
     "iopub.status.busy": "2024-03-24T06:55:46.009055Z",
     "iopub.status.idle": "2024-03-24T06:55:46.015295Z",
     "shell.execute_reply": "2024-03-24T06:55:46.014375Z"
    },
    "papermill": {
     "duration": 0.020821,
     "end_time": "2024-03-24T06:55:46.017372",
     "exception": false,
     "start_time": "2024-03-24T06:55:45.996551",
     "status": "completed"
    },
    "tags": []
   },
   "outputs": [],
   "source": [
    "import torch\n",
    "import torch.nn as nn\n",
    "import torch.optim as optim\n",
    "from torch.utils.data import DataLoader, Dataset\n",
    "from torchvision.models.detection import fasterrcnn_resnet50_fpn\n",
    "import torchvision.transforms as transforms\n",
    "import numpy as np\n",
    "import struct\n",
    "from array import array"
   ]
  },
  {
   "cell_type": "code",
   "execution_count": 15,
   "id": "0acbf7c9",
   "metadata": {
    "execution": {
     "iopub.execute_input": "2024-03-24T06:55:46.039180Z",
     "iopub.status.busy": "2024-03-24T06:55:46.038668Z",
     "iopub.status.idle": "2024-03-24T06:55:46.048231Z",
     "shell.execute_reply": "2024-03-24T06:55:46.047406Z"
    },
    "papermill": {
     "duration": 0.022425,
     "end_time": "2024-03-24T06:55:46.050121",
     "exception": false,
     "start_time": "2024-03-24T06:55:46.027696",
     "status": "completed"
    },
    "tags": []
   },
   "outputs": [],
   "source": [
    "class FasterRCNNNet(torch.nn.Module):\n",
    "    def __init__(self, num_classes):\n",
    "        super(FasterRCNNNet, self).__init__()\n",
    "        self.faster_rcnn_model = fasterrcnn_resnet50_fpn(pretrained=True)\n",
    "        in_features = self.faster_rcnn_model.roi_heads.box_predictor.cls_score.in_features\n",
    "        self.faster_rcnn_model.roi_heads.box_predictor = nn.Linear(in_features, num_classes)\n",
    "    def load_pretrained_weights(self, model_path):\n",
    "        state_dict = torch.load(model_path)\n",
    "        mapping_dict = {\n",
    "            \"conv1.weight\": \"backbone.body.conv1.weight\",\n",
    "            \"bn1.weight\": \"backbone.body.bn1.weight\",\n",
    "        }\n",
    "        adjusted_state_dict = {}\n",
    "        for key, value in state_dict.items():\n",
    "            if key in mapping_dict:\n",
    "                adjusted_key = mapping_dict[key]\n",
    "                adjusted_state_dict[adjusted_key] = value\n",
    "        self.faster_rcnn_model.load_state_dict(adjusted_state_dict, strict=False)\n",
    "    def forward(self, images, targets=None):\n",
    "        if self.training and targets is not None:\n",
    "            targets = [{k: v for k, v in target.items()} for target in targets]\n",
    "            loss_dict = self.faster_rcnn_model(images, targets)\n",
    "            return sum(loss for loss in loss_dict.values())\n",
    "        else:\n",
    "            return self.faster_rcnn_model(images)"
   ]
  },
  {
   "cell_type": "code",
   "execution_count": 16,
   "id": "cb997b03",
   "metadata": {
    "execution": {
     "iopub.execute_input": "2024-03-24T06:55:46.071586Z",
     "iopub.status.busy": "2024-03-24T06:55:46.071026Z",
     "iopub.status.idle": "2024-03-24T06:55:46.075931Z",
     "shell.execute_reply": "2024-03-24T06:55:46.075089Z"
    },
    "papermill": {
     "duration": 0.017647,
     "end_time": "2024-03-24T06:55:46.077951",
     "exception": false,
     "start_time": "2024-03-24T06:55:46.060304",
     "status": "completed"
    },
    "tags": []
   },
   "outputs": [],
   "source": [
    "class FastRCNNPredictor(nn.Module):\n",
    "    def __init__(self, in_channels, num_classes):\n",
    "        super(FastRCNNPredictor, self).__init__()\n",
    "        self.cls_score = nn.Linear(in_channels, num_classes)\n",
    "    def forward(self, x):\n",
    "        return self.cls_score(x)"
   ]
  },
  {
   "cell_type": "code",
   "execution_count": 17,
   "id": "ecee98b5",
   "metadata": {
    "execution": {
     "iopub.execute_input": "2024-03-24T06:55:46.098793Z",
     "iopub.status.busy": "2024-03-24T06:55:46.098505Z",
     "iopub.status.idle": "2024-03-24T06:55:46.106001Z",
     "shell.execute_reply": "2024-03-24T06:55:46.105198Z"
    },
    "papermill": {
     "duration": 0.019722,
     "end_time": "2024-03-24T06:55:46.107774",
     "exception": false,
     "start_time": "2024-03-24T06:55:46.088052",
     "status": "completed"
    },
    "tags": []
   },
   "outputs": [],
   "source": [
    "import PIL\n",
    "\n",
    "class MnistDataset(Dataset):\n",
    "    def __init__(self, images, labels, transform=None):\n",
    "        self.images = images\n",
    "        self.labels = labels\n",
    "        self.transform = transform\n",
    "\n",
    "    def __len__(self):\n",
    "        return len(self.images)\n",
    "\n",
    "    def __getitem__(self, index):\n",
    "        image = self.images[index]\n",
    "        label = self.labels[index]\n",
    "\n",
    "        # Convert list of pixels to PIL image\n",
    "        image = PIL.Image.fromarray(np.array(image))\n",
    "\n",
    "        if self.transform:\n",
    "            image = self.transform(image)\n",
    "\n",
    "        height, width = image.shape[-2:]\n",
    "        box = torch.tensor([0, 0, width, height], dtype=torch.float32)\n",
    "\n",
    "        sample = {\n",
    "            \"images\": image,\n",
    "            \"boxes\": box,\n",
    "            \"labels\": torch.tensor(label, dtype=torch.int64)\n",
    "        }\n",
    "        return sample\n"
   ]
  },
  {
   "cell_type": "code",
   "execution_count": 18,
   "id": "1b91d413",
   "metadata": {
    "execution": {
     "iopub.execute_input": "2024-03-24T06:55:46.128939Z",
     "iopub.status.busy": "2024-03-24T06:55:46.128690Z",
     "iopub.status.idle": "2024-03-24T06:55:46.139739Z",
     "shell.execute_reply": "2024-03-24T06:55:46.139000Z"
    },
    "papermill": {
     "duration": 0.023453,
     "end_time": "2024-03-24T06:55:46.141563",
     "exception": false,
     "start_time": "2024-03-24T06:55:46.118110",
     "status": "completed"
    },
    "tags": []
   },
   "outputs": [],
   "source": [
    "class MnistDataloader(object):\n",
    "    def __init__(self, training_images_filepath, training_labels_filepath, test_images_filepath, test_labels_filepath, transform=None):\n",
    "        self.training_images_filepath = training_images_filepath\n",
    "        self.training_labels_filepath = training_labels_filepath\n",
    "        self.test_images_filepath = test_images_filepath\n",
    "        self.test_labels_filepath = test_labels_filepath\n",
    "        self.transform = transform\n",
    "    def read_images_labels(self, images_filepath, labels_filepath):\n",
    "        labels = []\n",
    "        with open(labels_filepath, 'rb') as file:\n",
    "            magic, size = struct.unpack(\">II\", file.read(8))\n",
    "            if magic != 2049:\n",
    "                raise ValueError('Magic number mismatch, expected 2049, got {}'.format(magic))\n",
    "            labels = array(\"B\", file.read())\n",
    "        with open(images_filepath, 'rb') as file:\n",
    "            magic, size, rows, cols = struct.unpack(\">IIII\", file.read(16))\n",
    "            if magic != 2051:\n",
    "                raise ValueError('Magic number mismatch, expected 2051, got {}'.format(magic))\n",
    "            image_data = array(\"B\", file.read())\n",
    "        images = []\n",
    "        for i in range(size):\n",
    "            images.append([0] * rows * cols)\n",
    "        for i in range(size):\n",
    "            img = np.array(image_data[i * rows * cols:(i + 1) * rows * cols])\n",
    "            img = img.reshape(28, 28)\n",
    "            images[i][:] = img\n",
    "        return images, labels\n",
    "    def load_data(self):\n",
    "        x_train, y_train = self.read_images_labels(self.training_images_filepath, self.training_labels_filepath)\n",
    "        x_test, y_test = self.read_images_labels(self.test_images_filepath, self.test_labels_filepath)\n",
    "        train_dataset = MnistDataset(x_train, y_train, transform=self.transform)\n",
    "        test_dataset = MnistDataset(x_test, y_test, transform=self.transform)\n",
    "        return train_dataset, test_dataset"
   ]
  },
  {
   "cell_type": "code",
   "execution_count": 19,
   "id": "e257fd10",
   "metadata": {
    "execution": {
     "iopub.execute_input": "2024-03-24T06:55:46.162167Z",
     "iopub.status.busy": "2024-03-24T06:55:46.161897Z",
     "iopub.status.idle": "2024-03-24T06:55:48.814061Z",
     "shell.execute_reply": "2024-03-24T06:55:48.813229Z"
    },
    "papermill": {
     "duration": 2.66499,
     "end_time": "2024-03-24T06:55:48.816357",
     "exception": false,
     "start_time": "2024-03-24T06:55:46.151367",
     "status": "completed"
    },
    "tags": []
   },
   "outputs": [],
   "source": [
    "transform = transforms.Compose([transforms.ToPILImage(), transforms.ToTensor(), transforms.Normalize((0.5,), (0.5,))])\n",
    "mnist_dataloader = MnistDataloader(\n",
    "    '/kaggle/input/mnist-dataset/train-images-idx3-ubyte/train-images-idx3-ubyte',\n",
    "    '/kaggle/input/mnist-dataset/train-labels-idx1-ubyte/train-labels-idx1-ubyte',\n",
    "    '/kaggle/input/mnist-dataset/t10k-images-idx3-ubyte/t10k-images-idx3-ubyte',\n",
    "    '/kaggle/input/mnist-dataset/t10k-labels-idx1-ubyte/t10k-labels-idx1-ubyte',\n",
    "    transform=transform\n",
    ")\n",
    "\n",
    "batch_size = 2\n",
    "train_dataset, test_dataset = mnist_dataloader.load_data()\n",
    "mnist_train = DataLoader(train_dataset, batch_size=batch_size, shuffle=True, num_workers=2)\n",
    "mnist_test = DataLoader(test_dataset, batch_size=batch_size, shuffle=False, num_workers=2)\n",
    "device = torch.device(\"cuda\" if torch.cuda.is_available() else \"cpu\")"
   ]
  },
  {
   "cell_type": "code",
   "execution_count": 20,
   "id": "baa95f08",
   "metadata": {
    "execution": {
     "iopub.execute_input": "2024-03-24T06:55:48.837503Z",
     "iopub.status.busy": "2024-03-24T06:55:48.837202Z",
     "iopub.status.idle": "2024-03-24T06:55:51.043238Z",
     "shell.execute_reply": "2024-03-24T06:55:51.042333Z"
    },
    "papermill": {
     "duration": 2.21889,
     "end_time": "2024-03-24T06:55:51.045331",
     "exception": false,
     "start_time": "2024-03-24T06:55:48.826441",
     "status": "completed"
    },
    "tags": []
   },
   "outputs": [
    {
     "name": "stderr",
     "output_type": "stream",
     "text": [
      "/opt/conda/lib/python3.10/site-packages/torchvision/models/_utils.py:208: UserWarning: The parameter 'pretrained' is deprecated since 0.13 and may be removed in the future, please use 'weights' instead.\n",
      "  warnings.warn(\n",
      "/opt/conda/lib/python3.10/site-packages/torchvision/models/_utils.py:223: UserWarning: Arguments other than a weight enum or `None` for 'weights' are deprecated since 0.13 and may be removed in the future. The current behavior is equivalent to passing `weights=FasterRCNN_ResNet50_FPN_Weights.COCO_V1`. You can also use `weights=FasterRCNN_ResNet50_FPN_Weights.DEFAULT` to get the most up-to-date weights.\n",
      "  warnings.warn(msg)\n",
      "Downloading: \"https://download.pytorch.org/models/fasterrcnn_resnet50_fpn_coco-258fb6c6.pth\" to /root/.cache/torch/hub/checkpoints/fasterrcnn_resnet50_fpn_coco-258fb6c6.pth\n",
      "100%|██████████| 160M/160M [00:01<00:00, 161MB/s]\n"
     ]
    },
    {
     "data": {
      "text/plain": [
       "CrossEntropyLoss()"
      ]
     },
     "execution_count": 20,
     "metadata": {},
     "output_type": "execute_result"
    }
   ],
   "source": [
    "num_classes = 10\n",
    "faster_rcnn_net = FasterRCNNNet(num_classes)\n",
    "model_path = \"/kaggle/input/cocodataset/fasterrcnn_resnet50_fpn_coco-258fb6c6.pth\"\n",
    "faster_rcnn_net.load_pretrained_weights(model_path)\n",
    "device = torch.device(\"cuda\" if torch.cuda.is_available() else \"cpu\")\n",
    "faster_rcnn_net.to(device)\n",
    "optimizer = optim.Adam(faster_rcnn_net.parameters(), lr=0.001)\n",
    "criterion = nn.CrossEntropyLoss()\n",
    "criterion.to(device)"
   ]
  },
  {
   "cell_type": "code",
   "execution_count": 21,
   "id": "c8124fea",
   "metadata": {
    "execution": {
     "iopub.execute_input": "2024-03-24T06:55:51.069499Z",
     "iopub.status.busy": "2024-03-24T06:55:51.069205Z",
     "iopub.status.idle": "2024-03-24T06:55:51.075530Z",
     "shell.execute_reply": "2024-03-24T06:55:51.074687Z"
    },
    "papermill": {
     "duration": 0.020596,
     "end_time": "2024-03-24T06:55:51.077384",
     "exception": false,
     "start_time": "2024-03-24T06:55:51.056788",
     "status": "completed"
    },
    "tags": []
   },
   "outputs": [],
   "source": [
    "def train_one_epoch(model, dataloader, optimizer, criterion, device):\n",
    "    model.train()\n",
    "    total_loss = 0.0\n",
    "    for batch in dataloader:\n",
    "        images = batch[\"images\"].to(device)\n",
    "        boxes = batch[\"boxes\"].to(device)\n",
    "        labels = batch[\"labels\"].to(device)\n",
    "        targets = [{\"boxes\": boxes, \"labels\": labels}]\n",
    "        optimizer.zero_grad()\n",
    "        outputs = model(images, targets)\n",
    "        loss = sum(outputs.values())\n",
    "        loss.backward()\n",
    "        optimizer.step()\n",
    "        total_loss += loss.item()\n",
    "    return total_loss / len(dataloader)"
   ]
  },
  {
   "cell_type": "code",
   "execution_count": 22,
   "id": "6b0ee4e3",
   "metadata": {
    "execution": {
     "iopub.execute_input": "2024-03-24T06:55:51.100600Z",
     "iopub.status.busy": "2024-03-24T06:55:51.100306Z",
     "iopub.status.idle": "2024-03-24T06:55:51.106820Z",
     "shell.execute_reply": "2024-03-24T06:55:51.105999Z"
    },
    "papermill": {
     "duration": 0.020479,
     "end_time": "2024-03-24T06:55:51.108747",
     "exception": false,
     "start_time": "2024-03-24T06:55:51.088268",
     "status": "completed"
    },
    "tags": []
   },
   "outputs": [],
   "source": [
    "def evaluate(model, dataloader, criterion, device):\n",
    "    model.eval()\n",
    "    total_loss = 0.0\n",
    "    correct = 0\n",
    "    total_samples = 0\n",
    "    with torch.no_grad():\n",
    "        for images, labels in dataloader:\n",
    "            images, labels = images.to(device), labels.to(device)\n",
    "            outputs = model(images)\n",
    "            loss = criterion(outputs, labels)\n",
    "            total_loss += loss.item()\n",
    "            _, predicted = torch.max(outputs.data, 1)\n",
    "            total_samples += labels.size(0)\n",
    "            correct += (predicted == labels).sum().item()\n",
    "    avg_loss = total_loss / len(dataloader)\n",
    "    accuracy = correct / total_samples\n",
    "    return avg_loss, accuracy"
   ]
  },
  {
   "cell_type": "code",
   "execution_count": null,
   "id": "4655a56d",
   "metadata": {
    "papermill": {
     "duration": 0.010667,
     "end_time": "2024-03-24T06:55:51.130444",
     "exception": false,
     "start_time": "2024-03-24T06:55:51.119777",
     "status": "completed"
    },
    "tags": []
   },
   "outputs": [],
   "source": []
  }
 ],
 "metadata": {
  "kaggle": {
   "accelerator": "nvidiaTeslaT4",
   "dataSources": [
    {
     "datasetId": 102285,
     "sourceId": 242592,
     "sourceType": "datasetVersion"
    },
    {
     "datasetId": 4659064,
     "sourceId": 7927405,
     "sourceType": "datasetVersion"
    }
   ],
   "dockerImageVersionId": 30674,
   "isGpuEnabled": true,
   "isInternetEnabled": true,
   "language": "python",
   "sourceType": "notebook"
  },
  "kernelspec": {
   "display_name": "Python 3",
   "language": "python",
   "name": "python3"
  },
  "language_info": {
   "codemirror_mode": {
    "name": "ipython",
    "version": 3
   },
   "file_extension": ".py",
   "mimetype": "text/x-python",
   "name": "python",
   "nbconvert_exporter": "python",
   "pygments_lexer": "ipython3",
   "version": "3.10.13"
  },
  "papermill": {
   "default_parameters": {},
   "duration": 106.396065,
   "end_time": "2024-03-24T06:55:53.752610",
   "environment_variables": {},
   "exception": null,
   "input_path": "__notebook__.ipynb",
   "output_path": "__notebook__.ipynb",
   "parameters": {},
   "start_time": "2024-03-24T06:54:07.356545",
   "version": "2.5.0"
  }
 },
 "nbformat": 4,
 "nbformat_minor": 5
}
