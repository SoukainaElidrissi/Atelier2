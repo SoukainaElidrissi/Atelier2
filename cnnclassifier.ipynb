{
 "cells": [
  {
   "cell_type": "code",
   "execution_count": 1,
   "id": "ce502515",
   "metadata": {
    "_cell_guid": "b1076dfc-b9ad-4769-8c92-a6c4dae69d19",
    "_uuid": "8f2839f25d086af736a60e9eeb907d3b93b6e0e5",
    "execution": {
     "iopub.execute_input": "2024-03-24T07:15:28.772393Z",
     "iopub.status.busy": "2024-03-24T07:15:28.772125Z",
     "iopub.status.idle": "2024-03-24T07:15:30.120731Z",
     "shell.execute_reply": "2024-03-24T07:15:30.119814Z"
    },
    "papermill": {
     "duration": 1.362857,
     "end_time": "2024-03-24T07:15:30.123020",
     "exception": false,
     "start_time": "2024-03-24T07:15:28.760163",
     "status": "completed"
    },
    "tags": []
   },
   "outputs": [
    {
     "name": "stdout",
     "output_type": "stream",
     "text": [
      "/kaggle/input/cocodataset/fasterrcnn_resnet50_fpn_coco-258fb6c6.pth\n",
      "/kaggle/input/mnist-dataset/train-images.idx3-ubyte\n",
      "/kaggle/input/mnist-dataset/t10k-labels.idx1-ubyte\n",
      "/kaggle/input/mnist-dataset/t10k-images.idx3-ubyte\n",
      "/kaggle/input/mnist-dataset/train-labels.idx1-ubyte\n",
      "/kaggle/input/mnist-dataset/t10k-labels-idx1-ubyte/t10k-labels-idx1-ubyte\n",
      "/kaggle/input/mnist-dataset/t10k-images-idx3-ubyte/t10k-images-idx3-ubyte\n",
      "/kaggle/input/mnist-dataset/train-labels-idx1-ubyte/train-labels-idx1-ubyte\n",
      "/kaggle/input/mnist-dataset/train-images-idx3-ubyte/train-images-idx3-ubyte\n",
      "/kaggle/input/vggalexnet/vgg16-397923af.pth\n",
      "/kaggle/input/vggalexnet/alexnet-owt-4df8aa71.pth\n"
     ]
    }
   ],
   "source": [
    "# This Python 3 environment comes with many helpful analytics libraries installed\n",
    "# It is defined by the kaggle/python Docker image: https://github.com/kaggle/docker-python\n",
    "# For example, here's several helpful packages to load\n",
    "\n",
    "import numpy as np # linear algebra\n",
    "import pandas as pd # data processing, CSV file I/O (e.g. pd.read_csv)\n",
    "\n",
    "# Input data files are available in the read-only \"../input/\" directory\n",
    "# For example, running this (by clicking run or pressing Shift+Enter) will list all files under the input directory\n",
    "\n",
    "import os\n",
    "for dirname, _, filenames in os.walk('/kaggle/input'):\n",
    "    for filename in filenames:\n",
    "        print(os.path.join(dirname, filename))\n",
    "\n",
    "# You can write up to 20GB to the current directory (/kaggle/working/) that gets preserved as output when you create a version using \"Save & Run All\" \n",
    "# You can also write temporary files to /kaggle/temp/, but they won't be saved outside of the current session"
   ]
  },
  {
   "cell_type": "markdown",
   "id": "8a1808a8",
   "metadata": {
    "papermill": {
     "duration": 0.009322,
     "end_time": "2024-03-24T07:15:30.142385",
     "exception": false,
     "start_time": "2024-03-24T07:15:30.133063",
     "status": "completed"
    },
    "tags": []
   },
   "source": [
    "# # **CNN Classifier On a MNIST Dataset**"
   ]
  },
  {
   "cell_type": "code",
   "execution_count": 2,
   "id": "15114069",
   "metadata": {
    "execution": {
     "iopub.execute_input": "2024-03-24T07:15:30.163077Z",
     "iopub.status.busy": "2024-03-24T07:15:30.162188Z",
     "iopub.status.idle": "2024-03-24T07:15:42.011115Z",
     "shell.execute_reply": "2024-03-24T07:15:42.010337Z"
    },
    "papermill": {
     "duration": 11.861627,
     "end_time": "2024-03-24T07:15:42.013459",
     "exception": false,
     "start_time": "2024-03-24T07:15:30.151832",
     "status": "completed"
    },
    "tags": []
   },
   "outputs": [],
   "source": [
    "import torch\n",
    "import torch.nn as nn\n",
    "import torch.optim as optim\n",
    "import torchvision\n",
    "import torchvision.transforms as transforms\n",
    "from torch.utils.data import DataLoader\n",
    "from torchvision.datasets import MNIST\n",
    "import torch.nn.functional as F"
   ]
  },
  {
   "cell_type": "code",
   "execution_count": 3,
   "id": "92239008",
   "metadata": {
    "execution": {
     "iopub.execute_input": "2024-03-24T07:15:42.034947Z",
     "iopub.status.busy": "2024-03-24T07:15:42.034048Z",
     "iopub.status.idle": "2024-03-24T07:15:42.112439Z",
     "shell.execute_reply": "2024-03-24T07:15:42.111518Z"
    },
    "papermill": {
     "duration": 0.090825,
     "end_time": "2024-03-24T07:15:42.114356",
     "exception": false,
     "start_time": "2024-03-24T07:15:42.023531",
     "status": "completed"
    },
    "tags": []
   },
   "outputs": [],
   "source": [
    "device = torch.device(\"cuda\" if torch.cuda.is_available() else \"cpu\")"
   ]
  },
  {
   "cell_type": "code",
   "execution_count": 4,
   "id": "136aca9b",
   "metadata": {
    "execution": {
     "iopub.execute_input": "2024-03-24T07:15:42.135924Z",
     "iopub.status.busy": "2024-03-24T07:15:42.135342Z",
     "iopub.status.idle": "2024-03-24T07:15:42.139724Z",
     "shell.execute_reply": "2024-03-24T07:15:42.138962Z"
    },
    "papermill": {
     "duration": 0.017337,
     "end_time": "2024-03-24T07:15:42.141494",
     "exception": false,
     "start_time": "2024-03-24T07:15:42.124157",
     "status": "completed"
    },
    "tags": []
   },
   "outputs": [],
   "source": [
    "transform = transforms.Compose([\n",
    "    transforms.ToTensor(),\n",
    "    transforms.Normalize((0.5,), (0.5,))\n",
    "])\n"
   ]
  },
  {
   "cell_type": "code",
   "execution_count": 5,
   "id": "3bfe0ca2",
   "metadata": {
    "execution": {
     "iopub.execute_input": "2024-03-24T07:15:42.162633Z",
     "iopub.status.busy": "2024-03-24T07:15:42.162142Z",
     "iopub.status.idle": "2024-03-24T07:15:43.191864Z",
     "shell.execute_reply": "2024-03-24T07:15:43.191003Z"
    },
    "papermill": {
     "duration": 1.041853,
     "end_time": "2024-03-24T07:15:43.193884",
     "exception": false,
     "start_time": "2024-03-24T07:15:42.152031",
     "status": "completed"
    },
    "tags": []
   },
   "outputs": [
    {
     "name": "stdout",
     "output_type": "stream",
     "text": [
      "Downloading http://yann.lecun.com/exdb/mnist/train-images-idx3-ubyte.gz\n",
      "Downloading http://yann.lecun.com/exdb/mnist/train-images-idx3-ubyte.gz to ./data/MNIST/raw/train-images-idx3-ubyte.gz\n"
     ]
    },
    {
     "name": "stderr",
     "output_type": "stream",
     "text": [
      "100%|██████████| 9912422/9912422 [00:00<00:00, 107660286.77it/s]\n"
     ]
    },
    {
     "name": "stdout",
     "output_type": "stream",
     "text": [
      "Extracting ./data/MNIST/raw/train-images-idx3-ubyte.gz to ./data/MNIST/raw\n",
      "\n",
      "Downloading http://yann.lecun.com/exdb/mnist/train-labels-idx1-ubyte.gz\n",
      "Downloading http://yann.lecun.com/exdb/mnist/train-labels-idx1-ubyte.gz to ./data/MNIST/raw/train-labels-idx1-ubyte.gz\n"
     ]
    },
    {
     "name": "stderr",
     "output_type": "stream",
     "text": [
      "100%|██████████| 28881/28881 [00:00<00:00, 47823013.75it/s]\n"
     ]
    },
    {
     "name": "stdout",
     "output_type": "stream",
     "text": [
      "Extracting ./data/MNIST/raw/train-labels-idx1-ubyte.gz to ./data/MNIST/raw\n",
      "\n",
      "Downloading http://yann.lecun.com/exdb/mnist/t10k-images-idx3-ubyte.gz\n",
      "Downloading http://yann.lecun.com/exdb/mnist/t10k-images-idx3-ubyte.gz to ./data/MNIST/raw/t10k-images-idx3-ubyte.gz\n"
     ]
    },
    {
     "name": "stderr",
     "output_type": "stream",
     "text": [
      "100%|██████████| 1648877/1648877 [00:00<00:00, 26823871.12it/s]\n"
     ]
    },
    {
     "name": "stdout",
     "output_type": "stream",
     "text": [
      "Extracting ./data/MNIST/raw/t10k-images-idx3-ubyte.gz to ./data/MNIST/raw\n",
      "\n",
      "Downloading http://yann.lecun.com/exdb/mnist/t10k-labels-idx1-ubyte.gz\n",
      "Downloading http://yann.lecun.com/exdb/mnist/t10k-labels-idx1-ubyte.gz to ./data/MNIST/raw/t10k-labels-idx1-ubyte.gz\n"
     ]
    },
    {
     "name": "stderr",
     "output_type": "stream",
     "text": [
      "100%|██████████| 4542/4542 [00:00<00:00, 8600690.19it/s]\n"
     ]
    },
    {
     "name": "stdout",
     "output_type": "stream",
     "text": [
      "Extracting ./data/MNIST/raw/t10k-labels-idx1-ubyte.gz to ./data/MNIST/raw\n",
      "\n"
     ]
    }
   ],
   "source": [
    "train_dataset = MNIST(root='./data', train=True, download=True, transform=transform)\n",
    "test_dataset = MNIST(root='./data', train=False, download=True, transform=transform)\n",
    "\n",
    "# Define data loaders\n",
    "train_loader = DataLoader(dataset=train_dataset, batch_size=64, shuffle=True)\n",
    "test_loader = DataLoader(dataset=test_dataset, batch_size=64, shuffle=False)"
   ]
  },
  {
   "cell_type": "code",
   "execution_count": 6,
   "id": "eb046733",
   "metadata": {
    "execution": {
     "iopub.execute_input": "2024-03-24T07:15:43.217804Z",
     "iopub.status.busy": "2024-03-24T07:15:43.217266Z",
     "iopub.status.idle": "2024-03-24T07:15:44.489722Z",
     "shell.execute_reply": "2024-03-24T07:15:44.488839Z"
    },
    "papermill": {
     "duration": 1.286654,
     "end_time": "2024-03-24T07:15:44.491908",
     "exception": false,
     "start_time": "2024-03-24T07:15:43.205254",
     "status": "completed"
    },
    "tags": []
   },
   "outputs": [
    {
     "data": {
      "image/png": "[encoded data removed]",
      "text/plain": [
       "<Figure size 1000x600 with 15 Axes>"
      ]
     },
     "metadata": {},
     "output_type": "display_data"
    }
   ],
   "source": [
    "import matplotlib.pyplot as plt\n",
    "\n",
    "# Define a function to display images\n",
    "def show_images(images, labels, nrows=3, ncols=5):\n",
    "    fig, axes = plt.subplots(nrows, ncols, figsize=(10, 6))\n",
    "    for i, ax in enumerate(axes.flat):\n",
    "        ax.imshow(images[i].squeeze(), cmap='gray')\n",
    "        ax.set_title(f\"Label: {labels[i]}\")\n",
    "        ax.axis('off')\n",
    "    plt.tight_layout()\n",
    "    plt.show()\n",
    "\n",
    "# Display some sample images from the dataset\n",
    "dataiter=iter(train_loader)\n",
    "sample_images, sample_labels = next(dataiter)\n",
    "show_images(sample_images, sample_labels)\n"
   ]
  },
  {
   "cell_type": "code",
   "execution_count": 7,
   "id": "c96e580d",
   "metadata": {
    "execution": {
     "iopub.execute_input": "2024-03-24T07:15:44.516924Z",
     "iopub.status.busy": "2024-03-24T07:15:44.516391Z",
     "iopub.status.idle": "2024-03-24T07:15:44.525016Z",
     "shell.execute_reply": "2024-03-24T07:15:44.523821Z"
    },
    "papermill": {
     "duration": 0.02318,
     "end_time": "2024-03-24T07:15:44.526987",
     "exception": false,
     "start_time": "2024-03-24T07:15:44.503807",
     "status": "completed"
    },
    "tags": []
   },
   "outputs": [],
   "source": [
    "class CNN(nn.Module):\n",
    "    def __init__(self):\n",
    "        super(CNN, self).__init__()\n",
    "        self.conv1 = nn.Conv2d(1, 32, kernel_size=3, padding=1)\n",
    "        self.conv2 = nn.Conv2d(32, 64, kernel_size=3, padding=1)\n",
    "        self.pool = nn.MaxPool2d(kernel_size=2, stride=2)\n",
    "        self.fc1 = nn.Linear(64 * 7 * 7, 128)\n",
    "        self.fc2 = nn.Linear(128, 10)\n",
    "        self.dropout = nn.Dropout(0.5)\n",
    "\n",
    "    def forward(self, x):\n",
    "        x = F.relu(self.conv1(x))\n",
    "        x = self.pool(x)\n",
    "        x = F.relu(self.conv2(x))\n",
    "        x = self.pool(x)\n",
    "        x = x.view(-1, 64 * 7 * 7)\n",
    "        x = F.relu(self.fc1(x))\n",
    "        x = self.dropout(x)\n",
    "        x = self.fc2(x)\n",
    "        return x"
   ]
  },
  {
   "cell_type": "code",
   "execution_count": 8,
   "id": "e207217d",
   "metadata": {
    "execution": {
     "iopub.execute_input": "2024-03-24T07:15:44.551244Z",
     "iopub.status.busy": "2024-03-24T07:15:44.550775Z",
     "iopub.status.idle": "2024-03-24T07:15:44.749573Z",
     "shell.execute_reply": "2024-03-24T07:15:44.748636Z"
    },
    "papermill": {
     "duration": 0.213373,
     "end_time": "2024-03-24T07:15:44.751941",
     "exception": false,
     "start_time": "2024-03-24T07:15:44.538568",
     "status": "completed"
    },
    "tags": []
   },
   "outputs": [],
   "source": [
    "model = CNN().to(device)"
   ]
  },
  {
   "cell_type": "code",
   "execution_count": 9,
   "id": "7aa188d2",
   "metadata": {
    "execution": {
     "iopub.execute_input": "2024-03-24T07:15:44.777357Z",
     "iopub.status.busy": "2024-03-24T07:15:44.777060Z",
     "iopub.status.idle": "2024-03-24T07:15:44.782526Z",
     "shell.execute_reply": "2024-03-24T07:15:44.781846Z"
    },
    "papermill": {
     "duration": 0.020015,
     "end_time": "2024-03-24T07:15:44.784346",
     "exception": false,
     "start_time": "2024-03-24T07:15:44.764331",
     "status": "completed"
    },
    "tags": []
   },
   "outputs": [],
   "source": [
    "criterion = nn.CrossEntropyLoss()\n",
    "optimizer = optim.Adam(model.parameters(), lr=0.001)"
   ]
  },
  {
   "cell_type": "code",
   "execution_count": 10,
   "id": "5a8aeaf7",
   "metadata": {
    "execution": {
     "iopub.execute_input": "2024-03-24T07:15:44.808708Z",
     "iopub.status.busy": "2024-03-24T07:15:44.808431Z",
     "iopub.status.idle": "2024-03-24T07:17:00.283842Z",
     "shell.execute_reply": "2024-03-24T07:17:00.282826Z"
    },
    "papermill": {
     "duration": 75.50183,
     "end_time": "2024-03-24T07:17:00.297591",
     "exception": false,
     "start_time": "2024-03-24T07:15:44.795761",
     "status": "completed"
    },
    "tags": []
   },
   "outputs": [
    {
     "name": "stdout",
     "output_type": "stream",
     "text": [
      "Epoch 1/5, Loss: 0.245001926446266\n",
      "Epoch 2/5, Loss: 0.08523755282687862\n",
      "Epoch 3/5, Loss: 0.06579048893720245\n",
      "Epoch 4/5, Loss: 0.05497821495753588\n",
      "Epoch 5/5, Loss: 0.04537565592375558\n"
     ]
    }
   ],
   "source": [
    "num_epochs = 5\n",
    "for epoch in range(num_epochs):\n",
    "    model.train()\n",
    "    running_loss = 0.0\n",
    "    for images, labels in train_loader:\n",
    "        images, labels = images.to(device), labels.to(device)\n",
    "        optimizer.zero_grad()\n",
    "        outputs = model(images)\n",
    "        loss = criterion(outputs, labels)\n",
    "        loss.backward()\n",
    "        optimizer.step()\n",
    "        running_loss += loss.item()\n",
    "    print(f\"Epoch {epoch+1}/{num_epochs}, Loss: {running_loss/len(train_loader)}\")"
   ]
  },
  {
   "cell_type": "code",
   "execution_count": 11,
   "id": "5f44b02d",
   "metadata": {
    "execution": {
     "iopub.execute_input": "2024-03-24T07:17:00.322879Z",
     "iopub.status.busy": "2024-03-24T07:17:00.322561Z",
     "iopub.status.idle": "2024-03-24T07:17:02.596753Z",
     "shell.execute_reply": "2024-03-24T07:17:02.595606Z"
    },
    "papermill": {
     "duration": 2.289802,
     "end_time": "2024-03-24T07:17:02.599364",
     "exception": false,
     "start_time": "2024-03-24T07:17:00.309562",
     "status": "completed"
    },
    "tags": []
   },
   "outputs": [
    {
     "name": "stdout",
     "output_type": "stream",
     "text": [
      "Accuracy on the test set: 99.16%\n"
     ]
    }
   ],
   "source": [
    "model.eval()\n",
    "correct = 0\n",
    "total = 0\n",
    "with torch.no_grad():\n",
    "    for images, labels in test_loader:\n",
    "        images, labels = images.to(device), labels.to(device)\n",
    "        outputs = model(images)\n",
    "        _, predicted = torch.max(outputs.data, 1)\n",
    "        total += labels.size(0)\n",
    "        correct += (predicted == labels).sum().item()\n",
    "\n",
    "print(f\"Accuracy on the test set: {100 * correct / total}%\")"
   ]
  },
  {
   "cell_type": "code",
   "execution_count": null,
   "id": "c3ca918b",
   "metadata": {
    "papermill": {
     "duration": 0.013469,
     "end_time": "2024-03-24T07:17:02.626001",
     "exception": false,
     "start_time": "2024-03-24T07:17:02.612532",
     "status": "completed"
    },
    "tags": []
   },
   "outputs": [],
   "source": []
  },
  {
   "cell_type": "code",
   "execution_count": 12,
   "id": "e1fbc6cf",
   "metadata": {
    "execution": {
     "iopub.execute_input": "2024-03-24T07:17:02.653537Z",
     "iopub.status.busy": "2024-03-24T07:17:02.653229Z",
     "iopub.status.idle": "2024-03-24T07:17:02.887922Z",
     "shell.execute_reply": "2024-03-24T07:17:02.886961Z"
    },
    "papermill": {
     "duration": 0.251282,
     "end_time": "2024-03-24T07:17:02.890263",
     "exception": false,
     "start_time": "2024-03-24T07:17:02.638981",
     "status": "completed"
    },
    "tags": []
   },
   "outputs": [
    {
     "data": {
      "image/png": "[encoded data removed]",
      "text/plain": [
       "<Figure size 640x480 with 1 Axes>"
      ]
     },
     "metadata": {},
     "output_type": "display_data"
    }
   ],
   "source": [
    "import numpy as np\n",
    "\n",
    "\n",
    "example_index = 0\n",
    "# Get the corresponding image and label\n",
    "example_image = sample_images[example_index]  # Add batch dimension\n",
    "example_label = sample_labels[example_index]\n",
    "\n",
    "# Make prediction\n",
    "model.eval()\n",
    "with torch.no_grad():\n",
    "    example_image = example_image.to(device)\n",
    "    output = model(example_image)\n",
    "    predicted_label = torch.argmax(output).item()\n",
    "\n",
    "# Display the example image and prediction\n",
    "plt.imshow(example_image.squeeze().cpu(), cmap='gray')\n",
    "plt.title(f\"True Label: {example_label}, Predicted Label: {predicted_label}\")\n",
    "plt.axis('off')\n",
    "plt.show()\n"
   ]
  },
  {
   "cell_type": "markdown",
   "id": "98840235",
   "metadata": {
    "papermill": {
     "duration": 0.013881,
     "end_time": "2024-03-24T07:17:02.918392",
     "exception": false,
     "start_time": "2024-03-24T07:17:02.904511",
     "status": "completed"
    },
    "tags": []
   },
   "source": [
    "# #  **Faster R-CNN On a COCO datasets For object Detection**"
   ]
  },
  {
   "cell_type": "code",
   "execution_count": 13,
   "id": "242605d9",
   "metadata": {
    "execution": {
     "iopub.execute_input": "2024-03-24T07:17:02.947260Z",
     "iopub.status.busy": "2024-03-24T07:17:02.946944Z",
     "iopub.status.idle": "2024-03-24T07:17:06.503480Z",
     "shell.execute_reply": "2024-03-24T07:17:06.502202Z"
    },
    "papermill": {
     "duration": 3.573853,
     "end_time": "2024-03-24T07:17:06.506095",
     "exception": false,
     "start_time": "2024-03-24T07:17:02.932242",
     "status": "completed"
    },
    "tags": []
   },
   "outputs": [],
   "source": [
    "!mkdir -p /root/.cache/torch/hub/checkpoints\n",
    "!cp /kaggle/input/cocodataset/fasterrcnn_resnet50_fpn_coco-258fb6c6.pth /root/.cache/torch/hub/checkpoints/resnet18-5c106cde.pth"
   ]
  },
  {
   "cell_type": "code",
   "execution_count": 14,
   "id": "7b13c133",
   "metadata": {
    "execution": {
     "iopub.execute_input": "2024-03-24T07:17:06.534667Z",
     "iopub.status.busy": "2024-03-24T07:17:06.533716Z",
     "iopub.status.idle": "2024-03-24T07:17:06.539823Z",
     "shell.execute_reply": "2024-03-24T07:17:06.538949Z"
    },
    "papermill": {
     "duration": 0.022383,
     "end_time": "2024-03-24T07:17:06.541887",
     "exception": false,
     "start_time": "2024-03-24T07:17:06.519504",
     "status": "completed"
    },
    "tags": []
   },
   "outputs": [],
   "source": [
    "import torch\n",
    "import torch.nn as nn\n",
    "import torch.optim as optim\n",
    "from torch.utils.data import DataLoader, Dataset\n",
    "from torchvision.models.detection import fasterrcnn_resnet50_fpn\n",
    "import torchvision.transforms as transforms\n",
    "import numpy as np\n",
    "import struct\n",
    "from array import array"
   ]
  },
  {
   "cell_type": "code",
   "execution_count": 15,
   "id": "5d0ceded",
   "metadata": {
    "execution": {
     "iopub.execute_input": "2024-03-24T07:17:06.569345Z",
     "iopub.status.busy": "2024-03-24T07:17:06.569049Z",
     "iopub.status.idle": "2024-03-24T07:17:06.579406Z",
     "shell.execute_reply": "2024-03-24T07:17:06.578453Z"
    },
    "papermill": {
     "duration": 0.026439,
     "end_time": "2024-03-24T07:17:06.581474",
     "exception": false,
     "start_time": "2024-03-24T07:17:06.555035",
     "status": "completed"
    },
    "tags": []
   },
   "outputs": [],
   "source": [
    "class FasterRCNNNet(torch.nn.Module):\n",
    "    def __init__(self, num_classes):\n",
    "        super(FasterRCNNNet, self).__init__()\n",
    "        self.faster_rcnn_model = fasterrcnn_resnet50_fpn(pretrained=True)\n",
    "        in_features = self.faster_rcnn_model.roi_heads.box_predictor.cls_score.in_features\n",
    "        self.faster_rcnn_model.roi_heads.box_predictor = nn.Linear(in_features, num_classes)\n",
    "    def load_pretrained_weights(self, model_path):\n",
    "        state_dict = torch.load(model_path)\n",
    "        mapping_dict = {\n",
    "            \"conv1.weight\": \"backbone.body.conv1.weight\",\n",
    "            \"bn1.weight\": \"backbone.body.bn1.weight\",\n",
    "        }\n",
    "        adjusted_state_dict = {}\n",
    "        for key, value in state_dict.items():\n",
    "            if key in mapping_dict:\n",
    "                adjusted_key = mapping_dict[key]\n",
    "                adjusted_state_dict[adjusted_key] = value\n",
    "        self.faster_rcnn_model.load_state_dict(adjusted_state_dict, strict=False)\n",
    "    def forward(self, images, targets=None):\n",
    "        if self.training and targets is not None:\n",
    "            targets = [{k: v for k, v in target.items()} for target in targets]\n",
    "            loss_dict = self.faster_rcnn_model(images, targets)\n",
    "            return sum(loss for loss in loss_dict.values())\n",
    "        else:\n",
    "            return self.faster_rcnn_model(images)"
   ]
  },
  {
   "cell_type": "code",
   "execution_count": 16,
   "id": "39e3fadd",
   "metadata": {
    "execution": {
     "iopub.execute_input": "2024-03-24T07:17:06.608647Z",
     "iopub.status.busy": "2024-03-24T07:17:06.608349Z",
     "iopub.status.idle": "2024-03-24T07:17:06.613491Z",
     "shell.execute_reply": "2024-03-24T07:17:06.612629Z"
    },
    "papermill": {
     "duration": 0.020851,
     "end_time": "2024-03-24T07:17:06.615468",
     "exception": false,
     "start_time": "2024-03-24T07:17:06.594617",
     "status": "completed"
    },
    "tags": []
   },
   "outputs": [],
   "source": [
    "class FastRCNNPredictor(nn.Module):\n",
    "    def __init__(self, in_channels, num_classes):\n",
    "        super(FastRCNNPredictor, self).__init__()\n",
    "        self.cls_score = nn.Linear(in_channels, num_classes)\n",
    "    def forward(self, x):\n",
    "        return self.cls_score(x)"
   ]
  },
  {
   "cell_type": "code",
   "execution_count": 17,
   "id": "3f02b550",
   "metadata": {
    "execution": {
     "iopub.execute_input": "2024-03-24T07:17:06.641757Z",
     "iopub.status.busy": "2024-03-24T07:17:06.641481Z",
     "iopub.status.idle": "2024-03-24T07:17:06.649092Z",
     "shell.execute_reply": "2024-03-24T07:17:06.648223Z"
    },
    "papermill": {
     "duration": 0.022535,
     "end_time": "2024-03-24T07:17:06.650865",
     "exception": false,
     "start_time": "2024-03-24T07:17:06.628330",
     "status": "completed"
    },
    "tags": []
   },
   "outputs": [],
   "source": [
    "import PIL\n",
    "\n",
    "class MnistDataset(Dataset):\n",
    "    def __init__(self, images, labels, transform=None):\n",
    "        self.images = images\n",
    "        self.labels = labels\n",
    "        self.transform = transform\n",
    "\n",
    "    def __len__(self):\n",
    "        return len(self.images)\n",
    "\n",
    "    def __getitem__(self, index):\n",
    "        image = self.images[index]\n",
    "        label = self.labels[index]\n",
    "\n",
    "        # Convert list of pixels to PIL image\n",
    "        image = PIL.Image.fromarray(np.array(image))\n",
    "\n",
    "        if self.transform:\n",
    "            image = self.transform(image)\n",
    "\n",
    "        height, width = image.shape[-2:]\n",
    "        box = torch.tensor([0, 0, width, height], dtype=torch.float32)\n",
    "\n",
    "        sample = {\n",
    "            \"images\": image,\n",
    "            \"boxes\": box,\n",
    "            \"labels\": torch.tensor(label, dtype=torch.int64)\n",
    "        }\n",
    "        return sample\n"
   ]
  },
  {
   "cell_type": "code",
   "execution_count": 18,
   "id": "fa0ce39c",
   "metadata": {
    "execution": {
     "iopub.execute_input": "2024-03-24T07:17:06.677621Z",
     "iopub.status.busy": "2024-03-24T07:17:06.677299Z",
     "iopub.status.idle": "2024-03-24T07:17:06.688558Z",
     "shell.execute_reply": "2024-03-24T07:17:06.687749Z"
    },
    "papermill": {
     "duration": 0.026795,
     "end_time": "2024-03-24T07:17:06.690317",
     "exception": false,
     "start_time": "2024-03-24T07:17:06.663522",
     "status": "completed"
    },
    "tags": []
   },
   "outputs": [],
   "source": [
    "class MnistDataloader(object):\n",
    "    def __init__(self, training_images_filepath, training_labels_filepath, test_images_filepath, test_labels_filepath, transform=None):\n",
    "        self.training_images_filepath = training_images_filepath\n",
    "        self.training_labels_filepath = training_labels_filepath\n",
    "        self.test_images_filepath = test_images_filepath\n",
    "        self.test_labels_filepath = test_labels_filepath\n",
    "        self.transform = transform\n",
    "    def read_images_labels(self, images_filepath, labels_filepath):\n",
    "        labels = []\n",
    "        with open(labels_filepath, 'rb') as file:\n",
    "            magic, size = struct.unpack(\">II\", file.read(8))\n",
    "            if magic != 2049:\n",
    "                raise ValueError('Magic number mismatch, expected 2049, got {}'.format(magic))\n",
    "            labels = array(\"B\", file.read())\n",
    "        with open(images_filepath, 'rb') as file:\n",
    "            magic, size, rows, cols = struct.unpack(\">IIII\", file.read(16))\n",
    "            if magic != 2051:\n",
    "                raise ValueError('Magic number mismatch, expected 2051, got {}'.format(magic))\n",
    "            image_data = array(\"B\", file.read())\n",
    "        images = []\n",
    "        for i in range(size):\n",
    "            images.append([0] * rows * cols)\n",
    "        for i in range(size):\n",
    "            img = np.array(image_data[i * rows * cols:(i + 1) * rows * cols])\n",
    "            img = img.reshape(28, 28)\n",
    "            images[i][:] = img\n",
    "        return images, labels\n",
    "    def load_data(self):\n",
    "        x_train, y_train = self.read_images_labels(self.training_images_filepath, self.training_labels_filepath)\n",
    "        x_test, y_test = self.read_images_labels(self.test_images_filepath, self.test_labels_filepath)\n",
    "        train_dataset = MnistDataset(x_train, y_train, transform=self.transform)\n",
    "        test_dataset = MnistDataset(x_test, y_test, transform=self.transform)\n",
    "        return train_dataset, test_dataset"
   ]
  },
  {
   "cell_type": "code",
   "execution_count": 19,
   "id": "d640c1d5",
   "metadata": {
    "execution": {
     "iopub.execute_input": "2024-03-24T07:17:06.715784Z",
     "iopub.status.busy": "2024-03-24T07:17:06.715526Z",
     "iopub.status.idle": "2024-03-24T07:17:09.298292Z",
     "shell.execute_reply": "2024-03-24T07:17:09.297487Z"
    },
    "papermill": {
     "duration": 2.597979,
     "end_time": "2024-03-24T07:17:09.300620",
     "exception": false,
     "start_time": "2024-03-24T07:17:06.702641",
     "status": "completed"
    },
    "tags": []
   },
   "outputs": [],
   "source": [
    "transform = transforms.Compose([transforms.ToPILImage(), transforms.ToTensor(), transforms.Normalize((0.5,), (0.5,))])\n",
    "mnist_dataloader = MnistDataloader(\n",
    "    '/kaggle/input/mnist-dataset/train-images-idx3-ubyte/train-images-idx3-ubyte',\n",
    "    '/kaggle/input/mnist-dataset/train-labels-idx1-ubyte/train-labels-idx1-ubyte',\n",
    "    '/kaggle/input/mnist-dataset/t10k-images-idx3-ubyte/t10k-images-idx3-ubyte',\n",
    "    '/kaggle/input/mnist-dataset/t10k-labels-idx1-ubyte/t10k-labels-idx1-ubyte',\n",
    "    transform=transform\n",
    ")\n",
    "\n",
    "batch_size = 2\n",
    "train_dataset, test_dataset = mnist_dataloader.load_data()\n",
    "mnist_train = DataLoader(train_dataset, batch_size=batch_size, shuffle=True, num_workers=2)\n",
    "mnist_test = DataLoader(test_dataset, batch_size=batch_size, shuffle=False, num_workers=2)\n",
    "device = torch.device(\"cuda\" if torch.cuda.is_available() else \"cpu\")"
   ]
  },
  {
   "cell_type": "code",
   "execution_count": 20,
   "id": "28a80f41",
   "metadata": {
    "execution": {
     "iopub.execute_input": "2024-03-24T07:17:09.326659Z",
     "iopub.status.busy": "2024-03-24T07:17:09.326348Z",
     "iopub.status.idle": "2024-03-24T07:17:11.460316Z",
     "shell.execute_reply": "2024-03-24T07:17:11.459398Z"
    },
    "papermill": {
     "duration": 2.149056,
     "end_time": "2024-03-24T07:17:11.462326",
     "exception": false,
     "start_time": "2024-03-24T07:17:09.313270",
     "status": "completed"
    },
    "tags": []
   },
   "outputs": [
    {
     "name": "stderr",
     "output_type": "stream",
     "text": [
      "/opt/conda/lib/python3.10/site-packages/torchvision/models/_utils.py:208: UserWarning: The parameter 'pretrained' is deprecated since 0.13 and may be removed in the future, please use 'weights' instead.\n",
      "  warnings.warn(\n",
      "/opt/conda/lib/python3.10/site-packages/torchvision/models/_utils.py:223: UserWarning: Arguments other than a weight enum or `None` for 'weights' are deprecated since 0.13 and may be removed in the future. The current behavior is equivalent to passing `weights=FasterRCNN_ResNet50_FPN_Weights.COCO_V1`. You can also use `weights=FasterRCNN_ResNet50_FPN_Weights.DEFAULT` to get the most up-to-date weights.\n",
      "  warnings.warn(msg)\n",
      "Downloading: \"https://download.pytorch.org/models/fasterrcnn_resnet50_fpn_coco-258fb6c6.pth\" to /root/.cache/torch/hub/checkpoints/fasterrcnn_resnet50_fpn_coco-258fb6c6.pth\n",
      "100%|██████████| 160M/160M [00:00<00:00, 172MB/s]\n"
     ]
    },
    {
     "data": {
      "text/plain": [
       "CrossEntropyLoss()"
      ]
     },
     "execution_count": 20,
     "metadata": {},
     "output_type": "execute_result"
    }
   ],
   "source": [
    "num_classes = 10\n",
    "faster_rcnn_net = FasterRCNNNet(num_classes)\n",
    "model_path = \"/kaggle/input/cocodataset/fasterrcnn_resnet50_fpn_coco-258fb6c6.pth\"\n",
    "faster_rcnn_net.load_pretrained_weights(model_path)\n",
    "device = torch.device(\"cuda\" if torch.cuda.is_available() else \"cpu\")\n",
    "faster_rcnn_net.to(device)\n",
    "optimizer = optim.Adam(faster_rcnn_net.parameters(), lr=0.001)\n",
    "criterion = nn.CrossEntropyLoss()\n",
    "criterion.to(device)"
   ]
  },
  {
   "cell_type": "code",
   "execution_count": 21,
   "id": "ab058f74",
   "metadata": {
    "execution": {
     "iopub.execute_input": "2024-03-24T07:17:11.491594Z",
     "iopub.status.busy": "2024-03-24T07:17:11.490830Z",
     "iopub.status.idle": "2024-03-24T07:17:11.498762Z",
     "shell.execute_reply": "2024-03-24T07:17:11.497951Z"
    },
    "papermill": {
     "duration": 0.024847,
     "end_time": "2024-03-24T07:17:11.500828",
     "exception": false,
     "start_time": "2024-03-24T07:17:11.475981",
     "status": "completed"
    },
    "tags": []
   },
   "outputs": [],
   "source": [
    "def train_one_epoch(model, dataloader, optimizer, criterion, device):\n",
    "    model.train()\n",
    "    total_loss = 0.0\n",
    "    for batch in dataloader:\n",
    "        images = batch[\"images\"].to(device)\n",
    "        boxes = batch[\"boxes\"].to(device)\n",
    "        labels = batch[\"labels\"].to(device)\n",
    "        targets = [{\"boxes\": boxes, \"labels\": labels}]\n",
    "        optimizer.zero_grad()\n",
    "        outputs = model(images, targets)\n",
    "        loss = sum(outputs.values())\n",
    "        loss.backward()\n",
    "        optimizer.step()\n",
    "        total_loss += loss.item()\n",
    "    return total_loss / len(dataloader)"
   ]
  },
  {
   "cell_type": "code",
   "execution_count": 22,
   "id": "8cfeb513",
   "metadata": {
    "execution": {
     "iopub.execute_input": "2024-03-24T07:17:11.530958Z",
     "iopub.status.busy": "2024-03-24T07:17:11.530620Z",
     "iopub.status.idle": "2024-03-24T07:17:11.539401Z",
     "shell.execute_reply": "2024-03-24T07:17:11.538486Z"
    },
    "papermill": {
     "duration": 0.026885,
     "end_time": "2024-03-24T07:17:11.541489",
     "exception": false,
     "start_time": "2024-03-24T07:17:11.514604",
     "status": "completed"
    },
    "tags": []
   },
   "outputs": [],
   "source": [
    "def evaluate(model, dataloader, criterion, device):\n",
    "    model.eval()\n",
    "    total_loss = 0.0\n",
    "    correct = 0\n",
    "    total_samples = 0\n",
    "    with torch.no_grad():\n",
    "        for images, labels in dataloader:\n",
    "            images, labels = images.to(device), labels.to(device)\n",
    "            outputs = model(images)\n",
    "            loss = criterion(outputs, labels)\n",
    "            total_loss += loss.item()\n",
    "            _, predicted = torch.max(outputs.data, 1)\n",
    "            total_samples += labels.size(0)\n",
    "            correct += (predicted == labels).sum().item()\n",
    "    avg_loss = total_loss / len(dataloader)\n",
    "    accuracy = correct / total_samples\n",
    "    return avg_loss, accuracy"
   ]
  },
  {
   "cell_type": "markdown",
   "id": "fb48a141",
   "metadata": {
    "papermill": {
     "duration": 0.015521,
     "end_time": "2024-03-24T07:17:11.570366",
     "exception": false,
     "start_time": "2024-03-24T07:17:11.554845",
     "status": "completed"
    },
    "tags": []
   },
   "source": [
    "# **fine tuning**"
   ]
  },
  {
   "cell_type": "code",
   "execution_count": 23,
   "id": "ea011924",
   "metadata": {
    "execution": {
     "iopub.execute_input": "2024-03-24T07:17:11.603619Z",
     "iopub.status.busy": "2024-03-24T07:17:11.603218Z",
     "iopub.status.idle": "2024-03-24T07:17:22.140101Z",
     "shell.execute_reply": "2024-03-24T07:17:22.139016Z"
    },
    "papermill": {
     "duration": 10.556247,
     "end_time": "2024-03-24T07:17:22.142353",
     "exception": false,
     "start_time": "2024-03-24T07:17:11.586106",
     "status": "completed"
    },
    "tags": []
   },
   "outputs": [],
   "source": [
    "!mkdir -p /root/.cache/torch/hub/checkpoints\n",
    "!cp /kaggle/input/vggalexnet/alexnet-owt-4df8aa71.pth /root/.cache/torch/hub/checkpoints/alexnet-owt-7be5be79.pth\n",
    "!cp /kaggle/input/vggalexnet/vgg16-397923af.pth /root/.cache/torch/hub/checkpoints/vgg16-397923af.pth\n"
   ]
  },
  {
   "cell_type": "code",
   "execution_count": 24,
   "id": "cc121bd7",
   "metadata": {
    "execution": {
     "iopub.execute_input": "2024-03-24T07:17:22.170902Z",
     "iopub.status.busy": "2024-03-24T07:17:22.170613Z",
     "iopub.status.idle": "2024-03-24T07:17:22.176144Z",
     "shell.execute_reply": "2024-03-24T07:17:22.175245Z"
    },
    "papermill": {
     "duration": 0.02181,
     "end_time": "2024-03-24T07:17:22.178095",
     "exception": false,
     "start_time": "2024-03-24T07:17:22.156285",
     "status": "completed"
    },
    "tags": []
   },
   "outputs": [],
   "source": [
    "import torch\n",
    "import torch.nn as nn\n",
    "import torch.optim as optim\n",
    "import torchvision\n",
    "import torchvision.transforms as transforms\n",
    "from torch.utils.data import DataLoader\n",
    "from torchvision import models\n",
    "import torch.nn.functional as F"
   ]
  },
  {
   "cell_type": "code",
   "execution_count": 25,
   "id": "84bfc11b",
   "metadata": {
    "execution": {
     "iopub.execute_input": "2024-03-24T07:17:22.207105Z",
     "iopub.status.busy": "2024-03-24T07:17:22.206821Z",
     "iopub.status.idle": "2024-03-24T07:17:22.213160Z",
     "shell.execute_reply": "2024-03-24T07:17:22.212276Z"
    },
    "papermill": {
     "duration": 0.021991,
     "end_time": "2024-03-24T07:17:22.214869",
     "exception": false,
     "start_time": "2024-03-24T07:17:22.192878",
     "status": "completed"
    },
    "tags": []
   },
   "outputs": [],
   "source": [
    "class MnistDataset(Dataset):\n",
    "    def __init__(self, images, labels, transform=None):\n",
    "        self.images = images\n",
    "        self.labels = labels\n",
    "        self.transform = transform\n",
    "\n",
    "    def __len__(self):\n",
    "        return len(self.images)\n",
    "\n",
    "    def __getitem__(self, index):\n",
    "        image = np.array(self.images[index], dtype=np.uint8).reshape(28, 28, 1)\n",
    "        label = self.labels[index]\n",
    "\n",
    "        if self.transform:\n",
    "            image = self.transform(image)\n",
    "\n",
    "        return image, label"
   ]
  },
  {
   "cell_type": "code",
   "execution_count": 26,
   "id": "75949619",
   "metadata": {
    "execution": {
     "iopub.execute_input": "2024-03-24T07:17:22.242535Z",
     "iopub.status.busy": "2024-03-24T07:17:22.242236Z",
     "iopub.status.idle": "2024-03-24T07:17:22.253952Z",
     "shell.execute_reply": "2024-03-24T07:17:22.253137Z"
    },
    "papermill": {
     "duration": 0.02785,
     "end_time": "2024-03-24T07:17:22.255991",
     "exception": false,
     "start_time": "2024-03-24T07:17:22.228141",
     "status": "completed"
    },
    "tags": []
   },
   "outputs": [],
   "source": [
    "class MnistDataloader(object):\n",
    "    def __init__(self, training_images_filepath, training_labels_filepath, test_images_filepath, test_labels_filepath, transform=None):\n",
    "        self.training_images_filepath = training_images_filepath\n",
    "        self.training_labels_filepath = training_labels_filepath\n",
    "        self.test_images_filepath = test_images_filepath\n",
    "        self.test_labels_filepath = test_labels_filepath\n",
    "        self.transform = transform\n",
    "\n",
    "    def read_images_labels(self, images_filepath, labels_filepath):        \n",
    "        labels = []\n",
    "        with open(labels_filepath, 'rb') as file:\n",
    "            magic, size = struct.unpack(\">II\", file.read(8))\n",
    "            if magic != 2049:\n",
    "                raise ValueError('Magic number mismatch, expected 2049, got {}'.format(magic))\n",
    "            labels = array(\"B\", file.read())        \n",
    "        with open(images_filepath, 'rb') as file:\n",
    "            magic, size, rows, cols = struct.unpack(\">IIII\", file.read(16))\n",
    "            if magic != 2051:\n",
    "                raise ValueError('Magic number mismatch, expected 2051, got {}'.format(magic))\n",
    "            image_data = array(\"B\", file.read())        \n",
    "        images = []\n",
    "        for i in range(size):\n",
    "            images.append([0] * rows * cols)\n",
    "        for i in range(size):\n",
    "            img = np.array(image_data[i * rows * cols:(i + 1) * rows * cols])\n",
    "            img = img.reshape(28, 28)\n",
    "            images[i][:] = img            \n",
    "        return images, labels\n",
    "\n",
    "    def load_data(self):\n",
    "        x_train, y_train = self.read_images_labels(self.training_images_filepath, self.training_labels_filepath)\n",
    "        x_test, y_test = self.read_images_labels(self.test_images_filepath, self.test_labels_filepath)\n",
    "        train_dataset = MnistDataset(x_train, y_train, transform=self.transform)\n",
    "        test_dataset = MnistDataset(x_test, y_test, transform=self.transform)\n",
    "        return train_dataset, test_dataset"
   ]
  },
  {
   "cell_type": "code",
   "execution_count": 27,
   "id": "ee6da777",
   "metadata": {
    "execution": {
     "iopub.execute_input": "2024-03-24T07:17:22.283395Z",
     "iopub.status.busy": "2024-03-24T07:17:22.283154Z",
     "iopub.status.idle": "2024-03-24T07:17:24.560126Z",
     "shell.execute_reply": "2024-03-24T07:17:24.559132Z"
    },
    "papermill": {
     "duration": 2.293341,
     "end_time": "2024-03-24T07:17:24.562551",
     "exception": false,
     "start_time": "2024-03-24T07:17:22.269210",
     "status": "completed"
    },
    "tags": []
   },
   "outputs": [],
   "source": [
    "device = torch.device(\"cuda\" if torch.cuda.is_available() else \"cpu\")\n",
    "mnist_dataloader = MnistDataloader('/kaggle/input/mnist-dataset/train-images-idx3-ubyte/train-images-idx3-ubyte',\n",
    "                                   '/kaggle/input/mnist-dataset/train-labels-idx1-ubyte/train-labels-idx1-ubyte',\n",
    "                                   '/kaggle/input/mnist-dataset/t10k-images-idx3-ubyte/t10k-images-idx3-ubyte',\n",
    "                                   '/kaggle/input/mnist-dataset/t10k-labels-idx1-ubyte/t10k-labels-idx1-ubyte',\n",
    "                                   transform=transform)\n",
    "\n",
    "train_dataset, test_dataset = mnist_dataloader.load_data()\n",
    "batch_size = 64\n",
    "train_loader = DataLoader(train_dataset, batch_size=batch_size, shuffle=True, num_workers=2)\n",
    "test_loader = DataLoader(test_dataset, batch_size=batch_size, shuffle=False, num_workers=2)"
   ]
  },
  {
   "cell_type": "code",
   "execution_count": 28,
   "id": "3e8c08ee",
   "metadata": {
    "execution": {
     "iopub.execute_input": "2024-03-24T07:17:24.591779Z",
     "iopub.status.busy": "2024-03-24T07:17:24.591104Z",
     "iopub.status.idle": "2024-03-24T07:17:24.603653Z",
     "shell.execute_reply": "2024-03-24T07:17:24.602951Z"
    },
    "papermill": {
     "duration": 0.028891,
     "end_time": "2024-03-24T07:17:24.605488",
     "exception": false,
     "start_time": "2024-03-24T07:17:24.576597",
     "status": "completed"
    },
    "tags": []
   },
   "outputs": [],
   "source": [
    "class CNN(nn.Module):\n",
    "    def __init__(self):\n",
    "        super(CNN, self).__init__()\n",
    "        self.conv1 = nn.Conv2d(1, 32, kernel_size=3)\n",
    "        self.conv2 = nn.Conv2d(32, 64, kernel_size=3)\n",
    "        self.pool = nn.MaxPool2d(2, 2)\n",
    "        self.fc1 = nn.Linear(64 * 5 * 5, 128)\n",
    "        self.fc2 = nn.Linear(128, 10)\n",
    "\n",
    "    def forward(self, x):\n",
    "        x = self.pool(F.relu(self.conv1(x)))\n",
    "        x = self.pool(F.relu(self.conv2(x)))\n",
    "        x = x.view(x.size(0), -1)\n",
    "        x = F.relu(self.fc1(x))\n",
    "        x = self.fc2(x)\n",
    "        return x\n",
    "\n",
    "model_cnn = CNN().to(device)"
   ]
  },
  {
   "cell_type": "code",
   "execution_count": 29,
   "id": "316b4283",
   "metadata": {
    "execution": {
     "iopub.execute_input": "2024-03-24T07:17:24.633231Z",
     "iopub.status.busy": "2024-03-24T07:17:24.632974Z",
     "iopub.status.idle": "2024-03-24T07:17:24.646242Z",
     "shell.execute_reply": "2024-03-24T07:17:24.645555Z"
    },
    "papermill": {
     "duration": 0.029399,
     "end_time": "2024-03-24T07:17:24.648201",
     "exception": false,
     "start_time": "2024-03-24T07:17:24.618802",
     "status": "completed"
    },
    "tags": []
   },
   "outputs": [],
   "source": [
    "class VGG16OneChannel(nn.Module):\n",
    "    def __init__(self):\n",
    "        super(VGG16OneChannel, self).__init__()\n",
    "        self.features = nn.Sequential(\n",
    "            nn.Conv2d(1, 32, kernel_size=3, stride=1, padding=1),\n",
    "            nn.ReLU(inplace=True),\n",
    "            nn.MaxPool2d(kernel_size=2, stride=2),\n",
    "            nn.Conv2d(32, 64, kernel_size=3, stride=1, padding=1),\n",
    "            nn.ReLU(inplace=True),\n",
    "            nn.MaxPool2d(kernel_size=2, stride=2),\n",
    "        )\n",
    "        self.classifier = nn.Sequential(\n",
    "            nn.Linear(64 * 7 * 7, 128),\n",
    "            nn.ReLU(inplace=True),\n",
    "            nn.Linear(128, 10)\n",
    "        )\n",
    "\n",
    "    def forward(self, x):\n",
    "        x = self.features(x)\n",
    "        x = x.view(x.size(0), -1)\n",
    "        x = self.classifier(x)\n",
    "        return x\n",
    "\n",
    "model_vgg16_one_channel = VGG16OneChannel().to(device)"
   ]
  },
  {
   "cell_type": "code",
   "execution_count": 30,
   "id": "324dba2c",
   "metadata": {
    "execution": {
     "iopub.execute_input": "2024-03-24T07:17:24.675504Z",
     "iopub.status.busy": "2024-03-24T07:17:24.675266Z",
     "iopub.status.idle": "2024-03-24T07:17:24.688930Z",
     "shell.execute_reply": "2024-03-24T07:17:24.688274Z"
    },
    "papermill": {
     "duration": 0.029422,
     "end_time": "2024-03-24T07:17:24.690788",
     "exception": false,
     "start_time": "2024-03-24T07:17:24.661366",
     "status": "completed"
    },
    "tags": []
   },
   "outputs": [],
   "source": [
    "class alexnetChannel(nn.Module):\n",
    "    def __init__(self):\n",
    "        super(alexnetChannel, self).__init__()\n",
    "        self.features = nn.Sequential(\n",
    "            nn.Conv2d(1, 32, kernel_size=3, stride=1, padding=1),\n",
    "            nn.ReLU(inplace=True),\n",
    "            nn.MaxPool2d(kernel_size=2, stride=2),\n",
    "            nn.Conv2d(32, 64, kernel_size=3, stride=1, padding=1),\n",
    "            nn.ReLU(inplace=True),\n",
    "            nn.MaxPool2d(kernel_size=2, stride=2),\n",
    "        )\n",
    "        self.classifier = nn.Sequential(\n",
    "            nn.Linear(64 * 7 * 7, 128),\n",
    "            nn.ReLU(inplace=True),\n",
    "            nn.Linear(128, 10)\n",
    "        )\n",
    "\n",
    "    def forward(self, x):\n",
    "        x = self.features(x)\n",
    "        x = x.view(x.size(0), -1)\n",
    "        x = self.classifier(x)\n",
    "        return x\n",
    "\n",
    "model_alexnet = alexnetChannel().to(device)"
   ]
  },
  {
   "cell_type": "code",
   "execution_count": 31,
   "id": "2ebfb014",
   "metadata": {
    "execution": {
     "iopub.execute_input": "2024-03-24T07:17:24.718140Z",
     "iopub.status.busy": "2024-03-24T07:17:24.717868Z",
     "iopub.status.idle": "2024-03-24T07:17:24.725913Z",
     "shell.execute_reply": "2024-03-24T07:17:24.725149Z"
    },
    "papermill": {
     "duration": 0.023665,
     "end_time": "2024-03-24T07:17:24.727686",
     "exception": false,
     "start_time": "2024-03-24T07:17:24.704021",
     "status": "completed"
    },
    "tags": []
   },
   "outputs": [],
   "source": [
    "def fine_tune(model, train_loader, test_loader, num_epochs=5, learning_rate=0.001):\n",
    "    criterion = nn.CrossEntropyLoss()\n",
    "    optimizer = optim.Adam(model.parameters(), lr=learning_rate)\n",
    "    for epoch in range(num_epochs):\n",
    "        model.train()\n",
    "        for images, labels in train_loader:\n",
    "            images, labels = images.to(device), labels.to(device)\n",
    "            optimizer.zero_grad()\n",
    "            outputs = model(images)\n",
    "            loss = criterion(outputs, labels)\n",
    "            loss.backward()\n",
    "            optimizer.step()\n",
    "        model.eval()\n",
    "        correct, total = 0, 0\n",
    "        with torch.no_grad():\n",
    "            for images, labels in test_loader:\n",
    "                images, labels = images.to(device), labels.to(device)\n",
    "                outputs = model(images)\n",
    "                _, predicted = torch.max(outputs, 1)\n",
    "                total += labels.size(0)\n",
    "                correct += (predicted == labels).sum().item()\n",
    "\n",
    "        accuracy = correct / total\n",
    "        print(f\"Epoch {epoch + 1}/{num_epochs}, Accuracy: {accuracy}\")"
   ]
  },
  {
   "cell_type": "code",
   "execution_count": 32,
   "id": "d73146cd",
   "metadata": {
    "execution": {
     "iopub.execute_input": "2024-03-24T07:17:24.756172Z",
     "iopub.status.busy": "2024-03-24T07:17:24.755871Z",
     "iopub.status.idle": "2024-03-24T07:20:21.627448Z",
     "shell.execute_reply": "2024-03-24T07:20:21.626369Z"
    },
    "papermill": {
     "duration": 176.902949,
     "end_time": "2024-03-24T07:20:21.644128",
     "exception": false,
     "start_time": "2024-03-24T07:17:24.741179",
     "status": "completed"
    },
    "tags": []
   },
   "outputs": [
    {
     "name": "stdout",
     "output_type": "stream",
     "text": [
      "Fine-tune AlexNet\n",
      "Epoch 1/5, Accuracy: 0.9863\n",
      "Epoch 2/5, Accuracy: 0.988\n",
      "Epoch 3/5, Accuracy: 0.9889\n",
      "Epoch 4/5, Accuracy: 0.9907\n",
      "Epoch 5/5, Accuracy: 0.9915\n",
      "Fine-tune CNN\n",
      "Epoch 1/5, Accuracy: 0.9852\n",
      "Epoch 2/5, Accuracy: 0.9899\n",
      "Epoch 3/5, Accuracy: 0.9883\n",
      "Epoch 4/5, Accuracy: 0.9909\n",
      "Epoch 5/5, Accuracy: 0.9911\n",
      " Fine-tune VGG16\n",
      "Epoch 1/5, Accuracy: 0.9858\n",
      "Epoch 2/5, Accuracy: 0.9872\n",
      "Epoch 3/5, Accuracy: 0.9912\n",
      "Epoch 4/5, Accuracy: 0.9886\n",
      "Epoch 5/5, Accuracy: 0.9905\n"
     ]
    }
   ],
   "source": [
    "print(\"Fine-tune AlexNet\")\n",
    "fine_tune(model_alexnet, train_loader, test_loader)\n",
    "\n",
    "print(\"Fine-tune CNN\")\n",
    "fine_tune(model_cnn, train_loader, test_loader)\n",
    "\n",
    "print(\" Fine-tune VGG16\")\n",
    "fine_tune(model_vgg16_one_channel, train_loader, test_loader)"
   ]
  }
 ],
 "metadata": {
  "kaggle": {
   "accelerator": "nvidiaTeslaT4",
   "dataSources": [
    {
     "datasetId": 102285,
     "sourceId": 242592,
     "sourceType": "datasetVersion"
    },
    {
     "datasetId": 4659064,
     "sourceId": 7927405,
     "sourceType": "datasetVersion"
    },
    {
     "datasetId": 4659212,
     "sourceId": 7927604,
     "sourceType": "datasetVersion"
    }
   ],
   "dockerImageVersionId": 30674,
   "isGpuEnabled": true,
   "isInternetEnabled": true,
   "language": "python",
   "sourceType": "notebook"
  },
  "kernelspec": {
   "display_name": "Python 3",
   "language": "python",
   "name": "python3"
  },
  "language_info": {
   "codemirror_mode": {
    "name": "ipython",
    "version": 3
   },
   "file_extension": ".py",
   "mimetype": "text/x-python",
   "name": "python",
   "nbconvert_exporter": "python",
   "pygments_lexer": "ipython3",
   "version": "3.10.13"
  },
  "papermill": {
   "default_parameters": {},
   "duration": 300.120915,
   "end_time": "2024-03-24T07:20:24.933575",
   "environment_variables": {},
   "exception": null,
   "input_path": "__notebook__.ipynb",
   "output_path": "__notebook__.ipynb",
   "parameters": {},
   "start_time": "2024-03-24T07:15:24.812660",
   "version": "2.5.0"
  }
 },
 "nbformat": 4,
 "nbformat_minor": 5
}
